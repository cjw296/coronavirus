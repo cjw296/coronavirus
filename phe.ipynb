{
 "cells": [
  {
   "cell_type": "code",
   "execution_count": 1,
   "metadata": {},
   "outputs": [],
   "source": [
    "from datetime import datetime, timedelta, date\n",
    "import pandas as pd\n",
    "from constants import *\n",
    "from phe import pickle, query, download, plot_summary"
   ]
  },
  {
   "cell_type": "code",
   "execution_count": 2,
   "metadata": {},
   "outputs": [],
   "source": [
    "specimen_date = 'date'\n",
    "ltla = 'ltla'\n",
    "nation = 'nation'"
   ]
  },
  {
   "cell_type": "code",
   "execution_count": 10,
   "metadata": {},
   "outputs": [
    {
     "data": {
      "text/html": [
       "<div>\n",
       "<style scoped>\n",
       "    .dataframe tbody tr th:only-of-type {\n",
       "        vertical-align: middle;\n",
       "    }\n",
       "\n",
       "    .dataframe tbody tr th {\n",
       "        vertical-align: top;\n",
       "    }\n",
       "\n",
       "    .dataframe thead th {\n",
       "        text-align: right;\n",
       "    }\n",
       "</style>\n",
       "<table border=\"1\" class=\"dataframe\">\n",
       "  <thead>\n",
       "    <tr style=\"text-align: right;\">\n",
       "      <th></th>\n",
       "      <th>releaseTimestamp</th>\n",
       "      <th>date</th>\n",
       "      <th>areaName</th>\n",
       "      <th>areaCode</th>\n",
       "      <th>newCasesBySpecimenDate</th>\n",
       "      <th>newAdmissions</th>\n",
       "      <th>newDeaths28DaysByDeathDate</th>\n",
       "      <th>newVirusTests</th>\n",
       "    </tr>\n",
       "  </thead>\n",
       "  <tbody>\n",
       "    <tr>\n",
       "      <th>0</th>\n",
       "      <td>2020-12-22</td>\n",
       "      <td>2020-12-21</td>\n",
       "      <td>United Kingdom</td>\n",
       "      <td>K02000001</td>\n",
       "      <td>2235</td>\n",
       "      <td>NaN</td>\n",
       "      <td>147.0</td>\n",
       "      <td>423675.0</td>\n",
       "    </tr>\n",
       "    <tr>\n",
       "      <th>1</th>\n",
       "      <td>2020-12-22</td>\n",
       "      <td>2020-12-20</td>\n",
       "      <td>United Kingdom</td>\n",
       "      <td>K02000001</td>\n",
       "      <td>15762</td>\n",
       "      <td>NaN</td>\n",
       "      <td>252.0</td>\n",
       "      <td>433470.0</td>\n",
       "    </tr>\n",
       "    <tr>\n",
       "      <th>2</th>\n",
       "      <td>2020-12-22</td>\n",
       "      <td>2020-12-19</td>\n",
       "      <td>United Kingdom</td>\n",
       "      <td>K02000001</td>\n",
       "      <td>19222</td>\n",
       "      <td>NaN</td>\n",
       "      <td>288.0</td>\n",
       "      <td>440584.0</td>\n",
       "    </tr>\n",
       "    <tr>\n",
       "      <th>3</th>\n",
       "      <td>2020-12-22</td>\n",
       "      <td>2020-12-18</td>\n",
       "      <td>United Kingdom</td>\n",
       "      <td>K02000001</td>\n",
       "      <td>31068</td>\n",
       "      <td>1875.0</td>\n",
       "      <td>336.0</td>\n",
       "      <td>390130.0</td>\n",
       "    </tr>\n",
       "    <tr>\n",
       "      <th>4</th>\n",
       "      <td>2020-12-22</td>\n",
       "      <td>2020-12-17</td>\n",
       "      <td>United Kingdom</td>\n",
       "      <td>K02000001</td>\n",
       "      <td>33209</td>\n",
       "      <td>2095.0</td>\n",
       "      <td>442.0</td>\n",
       "      <td>375185.0</td>\n",
       "    </tr>\n",
       "    <tr>\n",
       "      <th>...</th>\n",
       "      <td>...</td>\n",
       "      <td>...</td>\n",
       "      <td>...</td>\n",
       "      <td>...</td>\n",
       "      <td>...</td>\n",
       "      <td>...</td>\n",
       "      <td>...</td>\n",
       "      <td>...</td>\n",
       "    </tr>\n",
       "    <tr>\n",
       "      <th>341</th>\n",
       "      <td>2020-12-22</td>\n",
       "      <td>2020-01-15</td>\n",
       "      <td>United Kingdom</td>\n",
       "      <td>K02000001</td>\n",
       "      <td>0</td>\n",
       "      <td>NaN</td>\n",
       "      <td>NaN</td>\n",
       "      <td>NaN</td>\n",
       "    </tr>\n",
       "    <tr>\n",
       "      <th>342</th>\n",
       "      <td>2020-12-22</td>\n",
       "      <td>2020-01-14</td>\n",
       "      <td>United Kingdom</td>\n",
       "      <td>K02000001</td>\n",
       "      <td>0</td>\n",
       "      <td>NaN</td>\n",
       "      <td>NaN</td>\n",
       "      <td>NaN</td>\n",
       "    </tr>\n",
       "    <tr>\n",
       "      <th>343</th>\n",
       "      <td>2020-12-22</td>\n",
       "      <td>2020-01-13</td>\n",
       "      <td>United Kingdom</td>\n",
       "      <td>K02000001</td>\n",
       "      <td>0</td>\n",
       "      <td>NaN</td>\n",
       "      <td>NaN</td>\n",
       "      <td>NaN</td>\n",
       "    </tr>\n",
       "    <tr>\n",
       "      <th>344</th>\n",
       "      <td>2020-12-22</td>\n",
       "      <td>2020-01-12</td>\n",
       "      <td>United Kingdom</td>\n",
       "      <td>K02000001</td>\n",
       "      <td>0</td>\n",
       "      <td>NaN</td>\n",
       "      <td>NaN</td>\n",
       "      <td>NaN</td>\n",
       "    </tr>\n",
       "    <tr>\n",
       "      <th>345</th>\n",
       "      <td>2020-12-22</td>\n",
       "      <td>2020-01-11</td>\n",
       "      <td>United Kingdom</td>\n",
       "      <td>K02000001</td>\n",
       "      <td>1</td>\n",
       "      <td>NaN</td>\n",
       "      <td>NaN</td>\n",
       "      <td>NaN</td>\n",
       "    </tr>\n",
       "  </tbody>\n",
       "</table>\n",
       "<p>346 rows × 8 columns</p>\n",
       "</div>"
      ],
      "text/plain": [
       "    releaseTimestamp        date        areaName   areaCode  \\\n",
       "0         2020-12-22  2020-12-21  United Kingdom  K02000001   \n",
       "1         2020-12-22  2020-12-20  United Kingdom  K02000001   \n",
       "2         2020-12-22  2020-12-19  United Kingdom  K02000001   \n",
       "3         2020-12-22  2020-12-18  United Kingdom  K02000001   \n",
       "4         2020-12-22  2020-12-17  United Kingdom  K02000001   \n",
       "..               ...         ...             ...        ...   \n",
       "341       2020-12-22  2020-01-15  United Kingdom  K02000001   \n",
       "342       2020-12-22  2020-01-14  United Kingdom  K02000001   \n",
       "343       2020-12-22  2020-01-13  United Kingdom  K02000001   \n",
       "344       2020-12-22  2020-01-12  United Kingdom  K02000001   \n",
       "345       2020-12-22  2020-01-11  United Kingdom  K02000001   \n",
       "\n",
       "     newCasesBySpecimenDate  newAdmissions  newDeaths28DaysByDeathDate  \\\n",
       "0                      2235            NaN                       147.0   \n",
       "1                     15762            NaN                       252.0   \n",
       "2                     19222            NaN                       288.0   \n",
       "3                     31068         1875.0                       336.0   \n",
       "4                     33209         2095.0                       442.0   \n",
       "..                      ...            ...                         ...   \n",
       "341                       0            NaN                         NaN   \n",
       "342                       0            NaN                         NaN   \n",
       "343                       0            NaN                         NaN   \n",
       "344                       0            NaN                         NaN   \n",
       "345                       1            NaN                         NaN   \n",
       "\n",
       "     newVirusTests  \n",
       "0         423675.0  \n",
       "1         433470.0  \n",
       "2         440584.0  \n",
       "3         390130.0  \n",
       "4         375185.0  \n",
       "..             ...  \n",
       "341            NaN  \n",
       "342            NaN  \n",
       "343            NaN  \n",
       "344            NaN  \n",
       "345            NaN  \n",
       "\n",
       "[346 rows x 8 columns]"
      ]
     },
     "execution_count": 10,
     "metadata": {},
     "output_type": "execute_result"
    }
   ],
   "source": [
    "overview_data = query(\n",
    "    filters={area_type: overview},\n",
    "    structure=[release_timestamp, specimen_date, area_name, area_code,\n",
    "               new_cases_by_specimen_date, new_admissions, new_deaths_by_death_date,\n",
    "               new_virus_tests]\n",
    ")\n",
    "overview_data"
   ]
  },
  {
   "cell_type": "code",
   "execution_count": 13,
   "metadata": {},
   "outputs": [
    {
     "data": {
      "text/plain": [
       "PosixPath('/Users/chris/Downloads/england_2020-12-22.csv')"
      ]
     },
     "execution_count": 13,
     "metadata": {},
     "output_type": "execute_result"
    }
   ],
   "source": [
    "download('england', 'nation', new_admissions_sum, new_cases_sum, new_deaths_sum, unique_people_tested_sum, area_name='England')"
   ]
  },
  {
   "cell_type": "code",
   "execution_count": 5,
   "metadata": {},
   "outputs": [
    {
     "data": {
      "image/png": "[encoded data removed]",
      "text/plain": [
       "<Figure size 1152x720 with 2 Axes>"
      ]
     },
     "metadata": {},
     "output_type": "display_data"
    }
   ],
   "source": [
    "plot_summary(earliest_date='2020-03-01', tested_formatter=lambda y, pos: f\"{y / 1_000:,.0f}k\")"
   ]
  },
  {
   "cell_type": "code",
   "execution_count": 14,
   "metadata": {},
   "outputs": [
    {
     "data": {
      "text/plain": [
       "PosixPath('/Users/chris/Downloads/msoa_2020-12-22.csv')"
      ]
     },
     "execution_count": 14,
     "metadata": {},
     "output_type": "execute_result"
    }
   ],
   "source": [
    "download('msoa', 'msoa', new_cases_sum, new_cases_rate, new_cases_change)"
   ]
  },
  {
   "cell_type": "code",
   "execution_count": 15,
   "metadata": {},
   "outputs": [
    {
     "data": {
      "application/vnd.jupyter.widget-view+json": {
       "model_id": "67619b9647384e489201e63b65f3e74b",
       "version_major": 2,
       "version_minor": 0
      },
      "text/plain": [
       "HBox(children=(FloatProgress(value=0.0, max=45.0), HTML(value='')))"
      ]
     },
     "metadata": {},
     "output_type": "display_data"
    },
    {
     "name": "stdout",
     "output_type": "stream",
     "text": [
      "\n"
     ]
    },
    {
     "data": {
      "text/html": [
       "<div>\n",
       "<style scoped>\n",
       "    .dataframe tbody tr th:only-of-type {\n",
       "        vertical-align: middle;\n",
       "    }\n",
       "\n",
       "    .dataframe tbody tr th {\n",
       "        vertical-align: top;\n",
       "    }\n",
       "\n",
       "    .dataframe thead th {\n",
       "        text-align: right;\n",
       "    }\n",
       "</style>\n",
       "<table border=\"1\" class=\"dataframe\">\n",
       "  <thead>\n",
       "    <tr style=\"text-align: right;\">\n",
       "      <th></th>\n",
       "      <th>releaseTimestamp</th>\n",
       "      <th>date</th>\n",
       "      <th>areaName</th>\n",
       "      <th>areaCode</th>\n",
       "      <th>newCasesBySpecimenDate</th>\n",
       "      <th>newDeaths28DaysByDeathDate</th>\n",
       "    </tr>\n",
       "  </thead>\n",
       "  <tbody>\n",
       "    <tr>\n",
       "      <th>0</th>\n",
       "      <td>2020-12-22</td>\n",
       "      <td>2020-12-21</td>\n",
       "      <td>Aberdeen City</td>\n",
       "      <td>S12000033</td>\n",
       "      <td>13.0</td>\n",
       "      <td>0.0</td>\n",
       "    </tr>\n",
       "    <tr>\n",
       "      <th>1</th>\n",
       "      <td>2020-12-22</td>\n",
       "      <td>2020-12-20</td>\n",
       "      <td>Aberdeen City</td>\n",
       "      <td>S12000033</td>\n",
       "      <td>51.0</td>\n",
       "      <td>0.0</td>\n",
       "    </tr>\n",
       "    <tr>\n",
       "      <th>2</th>\n",
       "      <td>2020-12-22</td>\n",
       "      <td>2020-12-19</td>\n",
       "      <td>Aberdeen City</td>\n",
       "      <td>S12000033</td>\n",
       "      <td>41.0</td>\n",
       "      <td>1.0</td>\n",
       "    </tr>\n",
       "    <tr>\n",
       "      <th>3</th>\n",
       "      <td>2020-12-22</td>\n",
       "      <td>2020-12-18</td>\n",
       "      <td>Aberdeen City</td>\n",
       "      <td>S12000033</td>\n",
       "      <td>57.0</td>\n",
       "      <td>0.0</td>\n",
       "    </tr>\n",
       "    <tr>\n",
       "      <th>4</th>\n",
       "      <td>2020-12-22</td>\n",
       "      <td>2020-12-17</td>\n",
       "      <td>Aberdeen City</td>\n",
       "      <td>S12000033</td>\n",
       "      <td>69.0</td>\n",
       "      <td>1.0</td>\n",
       "    </tr>\n",
       "    <tr>\n",
       "      <th>...</th>\n",
       "      <td>...</td>\n",
       "      <td>...</td>\n",
       "      <td>...</td>\n",
       "      <td>...</td>\n",
       "      <td>...</td>\n",
       "      <td>...</td>\n",
       "    </tr>\n",
       "    <tr>\n",
       "      <th>110903</th>\n",
       "      <td>2020-12-22</td>\n",
       "      <td>2020-06-24</td>\n",
       "      <td>Vale of Glamorgan</td>\n",
       "      <td>W06000014</td>\n",
       "      <td>0.0</td>\n",
       "      <td>NaN</td>\n",
       "    </tr>\n",
       "    <tr>\n",
       "      <th>110904</th>\n",
       "      <td>2020-12-22</td>\n",
       "      <td>2020-06-23</td>\n",
       "      <td>Vale of Glamorgan</td>\n",
       "      <td>W06000014</td>\n",
       "      <td>1.0</td>\n",
       "      <td>NaN</td>\n",
       "    </tr>\n",
       "    <tr>\n",
       "      <th>110905</th>\n",
       "      <td>2020-12-22</td>\n",
       "      <td>2020-06-22</td>\n",
       "      <td>Vale of Glamorgan</td>\n",
       "      <td>W06000014</td>\n",
       "      <td>7.0</td>\n",
       "      <td>NaN</td>\n",
       "    </tr>\n",
       "    <tr>\n",
       "      <th>110906</th>\n",
       "      <td>2020-12-22</td>\n",
       "      <td>2020-06-21</td>\n",
       "      <td>Vale of Glamorgan</td>\n",
       "      <td>W06000014</td>\n",
       "      <td>1.0</td>\n",
       "      <td>NaN</td>\n",
       "    </tr>\n",
       "    <tr>\n",
       "      <th>110907</th>\n",
       "      <td>2020-12-22</td>\n",
       "      <td>2020-06-20</td>\n",
       "      <td>Vale of Glamorgan</td>\n",
       "      <td>W06000014</td>\n",
       "      <td>3.0</td>\n",
       "      <td>NaN</td>\n",
       "    </tr>\n",
       "  </tbody>\n",
       "</table>\n",
       "<p>110908 rows × 6 columns</p>\n",
       "</div>"
      ],
      "text/plain": [
       "       releaseTimestamp        date           areaName   areaCode  \\\n",
       "0            2020-12-22  2020-12-21      Aberdeen City  S12000033   \n",
       "1            2020-12-22  2020-12-20      Aberdeen City  S12000033   \n",
       "2            2020-12-22  2020-12-19      Aberdeen City  S12000033   \n",
       "3            2020-12-22  2020-12-18      Aberdeen City  S12000033   \n",
       "4            2020-12-22  2020-12-17      Aberdeen City  S12000033   \n",
       "...                 ...         ...                ...        ...   \n",
       "110903       2020-12-22  2020-06-24  Vale of Glamorgan  W06000014   \n",
       "110904       2020-12-22  2020-06-23  Vale of Glamorgan  W06000014   \n",
       "110905       2020-12-22  2020-06-22  Vale of Glamorgan  W06000014   \n",
       "110906       2020-12-22  2020-06-21  Vale of Glamorgan  W06000014   \n",
       "110907       2020-12-22  2020-06-20  Vale of Glamorgan  W06000014   \n",
       "\n",
       "        newCasesBySpecimenDate  newDeaths28DaysByDeathDate  \n",
       "0                         13.0                         0.0  \n",
       "1                         51.0                         0.0  \n",
       "2                         41.0                         1.0  \n",
       "3                         57.0                         0.0  \n",
       "4                         69.0                         1.0  \n",
       "...                        ...                         ...  \n",
       "110903                     0.0                         NaN  \n",
       "110904                     1.0                         NaN  \n",
       "110905                     7.0                         NaN  \n",
       "110906                     1.0                         NaN  \n",
       "110907                     3.0                         NaN  \n",
       "\n",
       "[110908 rows x 6 columns]"
      ]
     },
     "execution_count": 15,
     "metadata": {},
     "output_type": "execute_result"
    }
   ],
   "source": [
    "area_data = query(\n",
    "    filters={area_type: ltla}, \n",
    "    structure=[release_timestamp, specimen_date, area_name, area_code, new_cases_by_specimen_date, new_deaths_by_death_date],\n",
    "    max_workers=10\n",
    ")\n",
    "area_data"
   ]
  },
  {
   "cell_type": "code",
   "execution_count": 16,
   "metadata": {
    "pycharm": {
     "name": "#%%\n"
    }
   },
   "outputs": [
    {
     "data": {
      "text/plain": [
       "PosixPath('/Users/chris/Downloads/phe_area_2020-12-22_2020-12-22-19-14.pickle')"
      ]
     },
     "execution_count": 16,
     "metadata": {},
     "output_type": "execute_result"
    }
   ],
   "source": [
    "pickle('area', area_data)"
   ]
  }
 ],
 "metadata": {
  "kernelspec": {
   "display_name": "Python 3",
   "language": "python",
   "name": "python3"
  },
  "language_info": {
   "codemirror_mode": {
    "name": "ipython",
    "version": 3
   },
   "file_extension": ".py",
   "mimetype": "text/x-python",
   "name": "python",
   "nbconvert_exporter": "python",
   "pygments_lexer": "ipython3",
   "version": "3.8.2"
  }
 },
 "nbformat": 4,
 "nbformat_minor": 4
}
