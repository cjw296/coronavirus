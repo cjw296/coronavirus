{
 "cells": [
  {
   "cell_type": "code",
   "execution_count": 1,
   "metadata": {},
   "outputs": [],
   "source": [
    "import concurrent.futures\n",
    "import json\n",
    "import requests\n",
    "\n",
    "from datetime import datetime\n",
    "from pathlib import Path\n",
    "\n",
    "import pandas as pd\n",
    "\n",
    "from tqdm.notebook import tqdm\n",
    "from urllib.parse import urlparse, parse_qs"
   ]
  },
  {
   "cell_type": "code",
   "execution_count": 2,
   "metadata": {},
   "outputs": [],
   "source": [
    "storage = str(Path('~/Downloads').expanduser())\n",
    "\n",
    "area_code = 'areaCode'\n",
    "area_name = 'areaName'\n",
    "area_type = 'areaType'\n",
    "date = 'date'\n",
    "new_cases_by_specimen_date = 'newCasesBySpecimenDate'\n",
    "new_deaths_by_death_date = 'newDeathsByDeathDate'\n",
    "release_timestamp = 'releaseTimestamp'\n",
    "\n",
    "ltla = 'ltla'\n",
    "nation = 'nation'"
   ]
  },
  {
   "cell_type": "code",
   "execution_count": 40,
   "metadata": {},
   "outputs": [],
   "source": [
    "def get(filters, structure, **params):\n",
    "    _params={\n",
    "        'filters':';'.join(f'{k}={v}' for (k, v) in filters.items()),\n",
    "        'structure': json.dumps({element:element for element in structure})\n",
    "    }\n",
    "    _params.update(params)\n",
    "    response = requests.get('https://api.coronavirus.data.gov.uk/v1/data', timeout=20, params=_params)\n",
    "    if response.status_code != 200:\n",
    "        raise ValueError(response.status_code)\n",
    "    return response.json()"
   ]
  },
  {
   "cell_type": "code",
   "execution_count": 41,
   "metadata": {},
   "outputs": [],
   "source": [
    "def pickle(name, df):\n",
    "    for_dates = df[release_timestamp].unique()\n",
    "    assert len(for_dates) == 1, for_dates\n",
    "    for_date, = for_dates\n",
    "    path = f'~/Downloads/phe_{name}_{for_date}_{datetime.now():%Y-%m-%d-%H-%M}.pickle'\n",
    "    df.to_pickle(path)\n",
    "    return path"
   ]
  },
  {
   "cell_type": "code",
   "execution_count": 42,
   "metadata": {},
   "outputs": [],
   "source": [
    "def query(filters, structure, max_workers=None, **params):\n",
    "    page = 1\n",
    "    response = get(filters, structure, page=page, **params)\n",
    "    result = response['data']\n",
    "    max_page = int(parse_qs(urlparse(response['pagination']['last']).query)['page'][0])\n",
    "    if max_page > 1:\n",
    "        t = tqdm(total=max_page)\n",
    "        t.update(1)\n",
    "        todo = range(2, max_page+1)\n",
    "        attempt = 0\n",
    "        with concurrent.futures.ThreadPoolExecutor(max_workers=max_workers or max_page-1) as executor:\n",
    "            while todo:\n",
    "                attempt += 1\n",
    "                bad = []\n",
    "                t.set_postfix({'errors': len(bad), 'attempt': attempt})\n",
    "                futures = {executor.submit(get, filters, structure, page=page, **params): page \n",
    "                           for page in todo}\n",
    "                for future in concurrent.futures.as_completed(futures):\n",
    "                    page = futures[future]\n",
    "                    try:\n",
    "                        response = future.result()\n",
    "                    except Exception as exc:\n",
    "                        bad.append(page)\n",
    "                        t.set_postfix({'errors': len(bad), 'attempt': attempt})\n",
    "                    else:\n",
    "                        result.extend(response['data'])\n",
    "                        t.update(1)\n",
    "                todo = bad\n",
    "        t.close()\n",
    "    return pd.DataFrame(result)"
   ]
  },
  {
   "cell_type": "code",
   "execution_count": 68,
   "metadata": {},
   "outputs": [
    {
     "data": {
      "text/html": [
       "<div>\n",
       "<style scoped>\n",
       "    .dataframe tbody tr th:only-of-type {\n",
       "        vertical-align: middle;\n",
       "    }\n",
       "\n",
       "    .dataframe tbody tr th {\n",
       "        vertical-align: top;\n",
       "    }\n",
       "\n",
       "    .dataframe thead th {\n",
       "        text-align: right;\n",
       "    }\n",
       "</style>\n",
       "<table border=\"1\" class=\"dataframe\">\n",
       "  <thead>\n",
       "    <tr style=\"text-align: right;\">\n",
       "      <th></th>\n",
       "      <th>releaseTimestamp</th>\n",
       "      <th>date</th>\n",
       "      <th>areaName</th>\n",
       "      <th>areaCode</th>\n",
       "      <th>newCasesBySpecimenDate</th>\n",
       "    </tr>\n",
       "  </thead>\n",
       "  <tbody>\n",
       "    <tr>\n",
       "      <th>0</th>\n",
       "      <td>2020-08-18</td>\n",
       "      <td>2020-08-18</td>\n",
       "      <td>England</td>\n",
       "      <td>E92000001</td>\n",
       "      <td>NaN</td>\n",
       "    </tr>\n",
       "    <tr>\n",
       "      <th>1</th>\n",
       "      <td>2020-08-18</td>\n",
       "      <td>2020-08-17</td>\n",
       "      <td>England</td>\n",
       "      <td>E92000001</td>\n",
       "      <td>11.0</td>\n",
       "    </tr>\n",
       "    <tr>\n",
       "      <th>2</th>\n",
       "      <td>2020-08-18</td>\n",
       "      <td>2020-08-16</td>\n",
       "      <td>England</td>\n",
       "      <td>E92000001</td>\n",
       "      <td>297.0</td>\n",
       "    </tr>\n",
       "    <tr>\n",
       "      <th>3</th>\n",
       "      <td>2020-08-18</td>\n",
       "      <td>2020-08-15</td>\n",
       "      <td>England</td>\n",
       "      <td>E92000001</td>\n",
       "      <td>554.0</td>\n",
       "    </tr>\n",
       "    <tr>\n",
       "      <th>4</th>\n",
       "      <td>2020-08-18</td>\n",
       "      <td>2020-08-14</td>\n",
       "      <td>England</td>\n",
       "      <td>E92000001</td>\n",
       "      <td>951.0</td>\n",
       "    </tr>\n",
       "    <tr>\n",
       "      <th>...</th>\n",
       "      <td>...</td>\n",
       "      <td>...</td>\n",
       "      <td>...</td>\n",
       "      <td>...</td>\n",
       "      <td>...</td>\n",
       "    </tr>\n",
       "    <tr>\n",
       "      <th>911</th>\n",
       "      <td>2020-08-18</td>\n",
       "      <td>2020-01-07</td>\n",
       "      <td>Wales</td>\n",
       "      <td>W92000004</td>\n",
       "      <td>NaN</td>\n",
       "    </tr>\n",
       "    <tr>\n",
       "      <th>912</th>\n",
       "      <td>2020-08-18</td>\n",
       "      <td>2020-01-06</td>\n",
       "      <td>Wales</td>\n",
       "      <td>W92000004</td>\n",
       "      <td>NaN</td>\n",
       "    </tr>\n",
       "    <tr>\n",
       "      <th>913</th>\n",
       "      <td>2020-08-18</td>\n",
       "      <td>2020-01-05</td>\n",
       "      <td>Wales</td>\n",
       "      <td>W92000004</td>\n",
       "      <td>NaN</td>\n",
       "    </tr>\n",
       "    <tr>\n",
       "      <th>914</th>\n",
       "      <td>2020-08-18</td>\n",
       "      <td>2020-01-04</td>\n",
       "      <td>Wales</td>\n",
       "      <td>W92000004</td>\n",
       "      <td>NaN</td>\n",
       "    </tr>\n",
       "    <tr>\n",
       "      <th>915</th>\n",
       "      <td>2020-08-18</td>\n",
       "      <td>2020-01-03</td>\n",
       "      <td>Wales</td>\n",
       "      <td>W92000004</td>\n",
       "      <td>NaN</td>\n",
       "    </tr>\n",
       "  </tbody>\n",
       "</table>\n",
       "<p>916 rows × 5 columns</p>\n",
       "</div>"
      ],
      "text/plain": [
       "    releaseTimestamp        date areaName   areaCode  newCasesBySpecimenDate\n",
       "0         2020-08-18  2020-08-18  England  E92000001                     NaN\n",
       "1         2020-08-18  2020-08-17  England  E92000001                    11.0\n",
       "2         2020-08-18  2020-08-16  England  E92000001                   297.0\n",
       "3         2020-08-18  2020-08-15  England  E92000001                   554.0\n",
       "4         2020-08-18  2020-08-14  England  E92000001                   951.0\n",
       "..               ...         ...      ...        ...                     ...\n",
       "911       2020-08-18  2020-01-07    Wales  W92000004                     NaN\n",
       "912       2020-08-18  2020-01-06    Wales  W92000004                     NaN\n",
       "913       2020-08-18  2020-01-05    Wales  W92000004                     NaN\n",
       "914       2020-08-18  2020-01-04    Wales  W92000004                     NaN\n",
       "915       2020-08-18  2020-01-03    Wales  W92000004                     NaN\n",
       "\n",
       "[916 rows x 5 columns]"
      ]
     },
     "execution_count": 68,
     "metadata": {},
     "output_type": "execute_result"
    }
   ],
   "source": [
    "nation_data = query(\n",
    "    filters={area_type: nation}, \n",
    "    structure=[release_timestamp, date, area_name, area_code, new_cases_by_specimen_date]\n",
    ")\n",
    "nation_data"
   ]
  },
  {
   "cell_type": "code",
   "execution_count": 69,
   "metadata": {},
   "outputs": [
    {
     "data": {
      "text/plain": [
       "'~/Downloads/phe_nation_2020-08-18_2020-08-18-19-56.pickle'"
      ]
     },
     "execution_count": 69,
     "metadata": {},
     "output_type": "execute_result"
    }
   ],
   "source": [
    "pickle('nation', nation_data)"
   ]
  },
  {
   "cell_type": "code",
   "execution_count": 70,
   "metadata": {},
   "outputs": [
    {
     "data": {
      "text/plain": [
       "<matplotlib.axes._subplots.AxesSubplot at 0x7f8c6466d7f0>"
      ]
     },
     "execution_count": 70,
     "metadata": {},
     "output_type": "execute_result"
    },
    {
     "data": {
      "image/png": "[encoded data removed]",
      "text/plain": [
       "<Figure size 1008x288 with 1 Axes>"
      ]
     },
     "metadata": {
      "needs_background": "light"
     },
     "output_type": "display_data"
    }
   ],
   "source": [
    "nation_data.groupby(date).sum()[new_cases_by_specimen_date].loc['2020-03-01':].plot(kind='bar', stacked=True, width=1, rot=-90, figsize=(14, 4))"
   ]
  },
  {
   "cell_type": "code",
   "execution_count": 71,
   "metadata": {},
   "outputs": [
    {
     "data": {
      "application/vnd.jupyter.widget-view+json": {
       "model_id": "a32a8b5d0ab84210b43acea8fa0a96b7",
       "version_major": 2,
       "version_minor": 0
      },
      "text/plain": [
       "HBox(children=(FloatProgress(value=0.0, max=86.0), HTML(value='')))"
      ]
     },
     "metadata": {},
     "output_type": "display_data"
    },
    {
     "name": "stdout",
     "output_type": "stream",
     "text": [
      "\n"
     ]
    },
    {
     "data": {
      "text/html": [
       "<div>\n",
       "<style scoped>\n",
       "    .dataframe tbody tr th:only-of-type {\n",
       "        vertical-align: middle;\n",
       "    }\n",
       "\n",
       "    .dataframe tbody tr th {\n",
       "        vertical-align: top;\n",
       "    }\n",
       "\n",
       "    .dataframe thead th {\n",
       "        text-align: right;\n",
       "    }\n",
       "</style>\n",
       "<table border=\"1\" class=\"dataframe\">\n",
       "  <thead>\n",
       "    <tr style=\"text-align: right;\">\n",
       "      <th></th>\n",
       "      <th>releaseTimestamp</th>\n",
       "      <th>date</th>\n",
       "      <th>areaName</th>\n",
       "      <th>areaCode</th>\n",
       "      <th>newCasesBySpecimenDate</th>\n",
       "    </tr>\n",
       "  </thead>\n",
       "  <tbody>\n",
       "    <tr>\n",
       "      <th>0</th>\n",
       "      <td>2020-08-18</td>\n",
       "      <td>2020-08-18</td>\n",
       "      <td>Aberdeen City</td>\n",
       "      <td>S12000033</td>\n",
       "      <td>2.0</td>\n",
       "    </tr>\n",
       "    <tr>\n",
       "      <th>1</th>\n",
       "      <td>2020-08-18</td>\n",
       "      <td>2020-08-17</td>\n",
       "      <td>Aberdeen City</td>\n",
       "      <td>S12000033</td>\n",
       "      <td>NaN</td>\n",
       "    </tr>\n",
       "    <tr>\n",
       "      <th>2</th>\n",
       "      <td>2020-08-18</td>\n",
       "      <td>2020-08-16</td>\n",
       "      <td>Aberdeen City</td>\n",
       "      <td>S12000033</td>\n",
       "      <td>NaN</td>\n",
       "    </tr>\n",
       "    <tr>\n",
       "      <th>3</th>\n",
       "      <td>2020-08-18</td>\n",
       "      <td>2020-08-15</td>\n",
       "      <td>Aberdeen City</td>\n",
       "      <td>S12000033</td>\n",
       "      <td>NaN</td>\n",
       "    </tr>\n",
       "    <tr>\n",
       "      <th>4</th>\n",
       "      <td>2020-08-18</td>\n",
       "      <td>2020-08-14</td>\n",
       "      <td>Aberdeen City</td>\n",
       "      <td>S12000033</td>\n",
       "      <td>NaN</td>\n",
       "    </tr>\n",
       "    <tr>\n",
       "      <th>...</th>\n",
       "      <td>...</td>\n",
       "      <td>...</td>\n",
       "      <td>...</td>\n",
       "      <td>...</td>\n",
       "      <td>...</td>\n",
       "    </tr>\n",
       "    <tr>\n",
       "      <th>85183</th>\n",
       "      <td>2020-08-18</td>\n",
       "      <td>2020-07-31</td>\n",
       "      <td>Barnet</td>\n",
       "      <td>E09000003</td>\n",
       "      <td>3.0</td>\n",
       "    </tr>\n",
       "    <tr>\n",
       "      <th>85184</th>\n",
       "      <td>2020-08-18</td>\n",
       "      <td>2020-07-30</td>\n",
       "      <td>Barnet</td>\n",
       "      <td>E09000003</td>\n",
       "      <td>9.0</td>\n",
       "    </tr>\n",
       "    <tr>\n",
       "      <th>85185</th>\n",
       "      <td>2020-08-18</td>\n",
       "      <td>2020-07-29</td>\n",
       "      <td>Barnet</td>\n",
       "      <td>E09000003</td>\n",
       "      <td>5.0</td>\n",
       "    </tr>\n",
       "    <tr>\n",
       "      <th>85186</th>\n",
       "      <td>2020-08-18</td>\n",
       "      <td>2020-07-28</td>\n",
       "      <td>Barnet</td>\n",
       "      <td>E09000003</td>\n",
       "      <td>8.0</td>\n",
       "    </tr>\n",
       "    <tr>\n",
       "      <th>85187</th>\n",
       "      <td>2020-08-18</td>\n",
       "      <td>2020-07-27</td>\n",
       "      <td>Barnet</td>\n",
       "      <td>E09000003</td>\n",
       "      <td>8.0</td>\n",
       "    </tr>\n",
       "  </tbody>\n",
       "</table>\n",
       "<p>85188 rows × 5 columns</p>\n",
       "</div>"
      ],
      "text/plain": [
       "      releaseTimestamp        date       areaName   areaCode  \\\n",
       "0           2020-08-18  2020-08-18  Aberdeen City  S12000033   \n",
       "1           2020-08-18  2020-08-17  Aberdeen City  S12000033   \n",
       "2           2020-08-18  2020-08-16  Aberdeen City  S12000033   \n",
       "3           2020-08-18  2020-08-15  Aberdeen City  S12000033   \n",
       "4           2020-08-18  2020-08-14  Aberdeen City  S12000033   \n",
       "...                ...         ...            ...        ...   \n",
       "85183       2020-08-18  2020-07-31         Barnet  E09000003   \n",
       "85184       2020-08-18  2020-07-30         Barnet  E09000003   \n",
       "85185       2020-08-18  2020-07-29         Barnet  E09000003   \n",
       "85186       2020-08-18  2020-07-28         Barnet  E09000003   \n",
       "85187       2020-08-18  2020-07-27         Barnet  E09000003   \n",
       "\n",
       "       newCasesBySpecimenDate  \n",
       "0                         2.0  \n",
       "1                         NaN  \n",
       "2                         NaN  \n",
       "3                         NaN  \n",
       "4                         NaN  \n",
       "...                       ...  \n",
       "85183                     3.0  \n",
       "85184                     9.0  \n",
       "85185                     5.0  \n",
       "85186                     8.0  \n",
       "85187                     8.0  \n",
       "\n",
       "[85188 rows x 5 columns]"
      ]
     },
     "execution_count": 71,
     "metadata": {},
     "output_type": "execute_result"
    }
   ],
   "source": [
    "area_data = query(\n",
    "    filters={area_type: ltla}, \n",
    "    structure=[release_timestamp, date, area_name, area_code, new_cases_by_specimen_date],\n",
    "    max_workers=10\n",
    ")\n",
    "area_data"
   ]
  },
  {
   "cell_type": "code",
   "execution_count": null,
   "metadata": {},
   "outputs": [
    {
     "data": {
      "text/plain": [
       "'~/Downloads/phe_area_2020-08-18_2020-08-18-19-59.pickle'"
      ]
     },
     "execution_count": 72,
     "metadata": {},
     "output_type": "execute_result"
    }
   ],
   "source": [
    "pickle('area', area_data)"
   ]
  }
 ],
 "metadata": {
  "kernelspec": {
   "display_name": "Python 3",
   "language": "python",
   "name": "python3"
  },
  "language_info": {
   "codemirror_mode": {
    "name": "ipython",
    "version": 3
   },
   "file_extension": ".py",
   "mimetype": "text/x-python",
   "name": "python",
   "nbconvert_exporter": "python",
   "pygments_lexer": "ipython3",
   "version": "3.8.2"
  }
 },
 "nbformat": 4,
 "nbformat_minor": 4
}