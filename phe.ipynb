{
 "cells": [
  {
   "cell_type": "code",
   "execution_count": 1,
   "metadata": {},
   "outputs": [],
   "source": [
    "import concurrent.futures\n",
    "import json\n",
    "import requests\n",
    "\n",
    "from datetime import datetime\n",
    "from pathlib import Path\n",
    "\n",
    "import pandas as pd\n",
    "\n",
    "from tqdm.notebook import tqdm\n",
    "from urllib.parse import urlparse, parse_qs"
   ]
  },
  {
   "cell_type": "code",
   "execution_count": 2,
   "metadata": {},
   "outputs": [],
   "source": [
    "storage = str(Path('~/Downloads').expanduser())\n",
    "\n",
    "area_code = 'areaCode'\n",
    "area_name = 'areaName'\n",
    "area_type = 'areaType'\n",
    "date = 'date'\n",
    "new_cases_by_specimen_date = 'newCasesBySpecimenDate'\n",
    "new_deaths_by_death_date = 'newDeathsByDeathDate'\n",
    "release_timestamp = 'releaseTimestamp'\n",
    "\n",
    "ltla = 'ltla'\n",
    "nation = 'nation'"
   ]
  },
  {
   "cell_type": "code",
   "execution_count": 40,
   "metadata": {},
   "outputs": [],
   "source": [
    "def get(filters, structure, **params):\n",
    "    _params={\n",
    "        'filters':';'.join(f'{k}={v}' for (k, v) in filters.items()),\n",
    "        'structure': json.dumps({element:element for element in structure})\n",
    "    }\n",
    "    _params.update(params)\n",
    "    response = requests.get('https://api.coronavirus.data.gov.uk/v1/data', timeout=20, params=_params)\n",
    "    if response.status_code != 200:\n",
    "        raise ValueError(response.status_code)\n",
    "    return response.json()"
   ]
  },
  {
   "cell_type": "code",
   "execution_count": 41,
   "metadata": {},
   "outputs": [],
   "source": [
    "def pickle(name, df):\n",
    "    for_dates = df[release_timestamp].unique()\n",
    "    assert len(for_dates) == 1, for_dates\n",
    "    for_date, = for_dates\n",
    "    path = f'~/Downloads/phe_{name}_{for_date}_{datetime.now():%Y-%m-%d-%H-%M}.pickle'\n",
    "    df.to_pickle(path)\n",
    "    return path"
   ]
  },
  {
   "cell_type": "code",
   "execution_count": 42,
   "metadata": {},
   "outputs": [],
   "source": [
    "def query(filters, structure, max_workers=None, **params):\n",
    "    page = 1\n",
    "    response = get(filters, structure, page=page, **params)\n",
    "    result = response['data']\n",
    "    max_page = int(parse_qs(urlparse(response['pagination']['last']).query)['page'][0])\n",
    "    if max_page > 1:\n",
    "        t = tqdm(total=max_page)\n",
    "        t.update(1)\n",
    "        todo = range(2, max_page+1)\n",
    "        attempt = 0\n",
    "        with concurrent.futures.ThreadPoolExecutor(max_workers=max_workers or max_page-1) as executor:\n",
    "            while todo:\n",
    "                attempt += 1\n",
    "                bad = []\n",
    "                t.set_postfix({'errors': len(bad), 'attempt': attempt})\n",
    "                futures = {executor.submit(get, filters, structure, page=page, **params): page \n",
    "                           for page in todo}\n",
    "                for future in concurrent.futures.as_completed(futures):\n",
    "                    page = futures[future]\n",
    "                    try:\n",
    "                        response = future.result()\n",
    "                    except Exception as exc:\n",
    "                        bad.append(page)\n",
    "                        t.set_postfix({'errors': len(bad), 'attempt': attempt})\n",
    "                    else:\n",
    "                        result.extend(response['data'])\n",
    "                        t.update(1)\n",
    "                todo = bad\n",
    "        t.close()\n",
    "    return pd.DataFrame(result)"
   ]
  },
  {
   "cell_type": "code",
   "execution_count": 74,
   "metadata": {},
   "outputs": [
    {
     "data": {
      "text/html": [
       "<div>\n",
       "<style scoped>\n",
       "    .dataframe tbody tr th:only-of-type {\n",
       "        vertical-align: middle;\n",
       "    }\n",
       "\n",
       "    .dataframe tbody tr th {\n",
       "        vertical-align: top;\n",
       "    }\n",
       "\n",
       "    .dataframe thead th {\n",
       "        text-align: right;\n",
       "    }\n",
       "</style>\n",
       "<table border=\"1\" class=\"dataframe\">\n",
       "  <thead>\n",
       "    <tr style=\"text-align: right;\">\n",
       "      <th></th>\n",
       "      <th>releaseTimestamp</th>\n",
       "      <th>date</th>\n",
       "      <th>areaName</th>\n",
       "      <th>areaCode</th>\n",
       "      <th>newCasesBySpecimenDate</th>\n",
       "    </tr>\n",
       "  </thead>\n",
       "  <tbody>\n",
       "    <tr>\n",
       "      <th>0</th>\n",
       "      <td>2020-08-19</td>\n",
       "      <td>2020-08-19</td>\n",
       "      <td>England</td>\n",
       "      <td>E92000001</td>\n",
       "      <td>NaN</td>\n",
       "    </tr>\n",
       "    <tr>\n",
       "      <th>1</th>\n",
       "      <td>2020-08-19</td>\n",
       "      <td>2020-08-18</td>\n",
       "      <td>England</td>\n",
       "      <td>E92000001</td>\n",
       "      <td>13.0</td>\n",
       "    </tr>\n",
       "    <tr>\n",
       "      <th>2</th>\n",
       "      <td>2020-08-19</td>\n",
       "      <td>2020-08-17</td>\n",
       "      <td>England</td>\n",
       "      <td>E92000001</td>\n",
       "      <td>460.0</td>\n",
       "    </tr>\n",
       "    <tr>\n",
       "      <th>3</th>\n",
       "      <td>2020-08-19</td>\n",
       "      <td>2020-08-16</td>\n",
       "      <td>England</td>\n",
       "      <td>E92000001</td>\n",
       "      <td>405.0</td>\n",
       "    </tr>\n",
       "    <tr>\n",
       "      <th>4</th>\n",
       "      <td>2020-08-19</td>\n",
       "      <td>2020-08-15</td>\n",
       "      <td>England</td>\n",
       "      <td>E92000001</td>\n",
       "      <td>605.0</td>\n",
       "    </tr>\n",
       "    <tr>\n",
       "      <th>...</th>\n",
       "      <td>...</td>\n",
       "      <td>...</td>\n",
       "      <td>...</td>\n",
       "      <td>...</td>\n",
       "      <td>...</td>\n",
       "    </tr>\n",
       "    <tr>\n",
       "      <th>915</th>\n",
       "      <td>2020-08-19</td>\n",
       "      <td>2020-01-07</td>\n",
       "      <td>Wales</td>\n",
       "      <td>W92000004</td>\n",
       "      <td>NaN</td>\n",
       "    </tr>\n",
       "    <tr>\n",
       "      <th>916</th>\n",
       "      <td>2020-08-19</td>\n",
       "      <td>2020-01-06</td>\n",
       "      <td>Wales</td>\n",
       "      <td>W92000004</td>\n",
       "      <td>NaN</td>\n",
       "    </tr>\n",
       "    <tr>\n",
       "      <th>917</th>\n",
       "      <td>2020-08-19</td>\n",
       "      <td>2020-01-05</td>\n",
       "      <td>Wales</td>\n",
       "      <td>W92000004</td>\n",
       "      <td>NaN</td>\n",
       "    </tr>\n",
       "    <tr>\n",
       "      <th>918</th>\n",
       "      <td>2020-08-19</td>\n",
       "      <td>2020-01-04</td>\n",
       "      <td>Wales</td>\n",
       "      <td>W92000004</td>\n",
       "      <td>NaN</td>\n",
       "    </tr>\n",
       "    <tr>\n",
       "      <th>919</th>\n",
       "      <td>2020-08-19</td>\n",
       "      <td>2020-01-03</td>\n",
       "      <td>Wales</td>\n",
       "      <td>W92000004</td>\n",
       "      <td>NaN</td>\n",
       "    </tr>\n",
       "  </tbody>\n",
       "</table>\n",
       "<p>920 rows × 5 columns</p>\n",
       "</div>"
      ],
      "text/plain": [
       "    releaseTimestamp        date areaName   areaCode  newCasesBySpecimenDate\n",
       "0         2020-08-19  2020-08-19  England  E92000001                     NaN\n",
       "1         2020-08-19  2020-08-18  England  E92000001                    13.0\n",
       "2         2020-08-19  2020-08-17  England  E92000001                   460.0\n",
       "3         2020-08-19  2020-08-16  England  E92000001                   405.0\n",
       "4         2020-08-19  2020-08-15  England  E92000001                   605.0\n",
       "..               ...         ...      ...        ...                     ...\n",
       "915       2020-08-19  2020-01-07    Wales  W92000004                     NaN\n",
       "916       2020-08-19  2020-01-06    Wales  W92000004                     NaN\n",
       "917       2020-08-19  2020-01-05    Wales  W92000004                     NaN\n",
       "918       2020-08-19  2020-01-04    Wales  W92000004                     NaN\n",
       "919       2020-08-19  2020-01-03    Wales  W92000004                     NaN\n",
       "\n",
       "[920 rows x 5 columns]"
      ]
     },
     "execution_count": 74,
     "metadata": {},
     "output_type": "execute_result"
    }
   ],
   "source": [
    "nation_data = query(\n",
    "    filters={area_type: nation}, \n",
    "    structure=[release_timestamp, date, area_name, area_code, new_cases_by_specimen_date]\n",
    ")\n",
    "nation_data"
   ]
  },
  {
   "cell_type": "code",
   "execution_count": 75,
   "metadata": {},
   "outputs": [
    {
     "data": {
      "text/plain": [
       "'~/Downloads/phe_nation_2020-08-19_2020-08-19-18-49.pickle'"
      ]
     },
     "execution_count": 75,
     "metadata": {},
     "output_type": "execute_result"
    }
   ],
   "source": [
    "pickle('nation', nation_data)"
   ]
  },
  {
   "cell_type": "code",
   "execution_count": 76,
   "metadata": {},
   "outputs": [
    {
     "data": {
      "text/plain": [
       "<matplotlib.axes._subplots.AxesSubplot at 0x7f8c708a4a60>"
      ]
     },
     "execution_count": 76,
     "metadata": {},
     "output_type": "execute_result"
    },
    {
     "data": {
      "image/png": "[encoded data removed]",
      "text/plain": [
       "<Figure size 1008x288 with 1 Axes>"
      ]
     },
     "metadata": {
      "needs_background": "light"
     },
     "output_type": "display_data"
    }
   ],
   "source": [
    "nation_data.groupby(date).sum()[new_cases_by_specimen_date].loc['2020-03-01':].plot(kind='bar', stacked=True, width=1, rot=-90, figsize=(14, 4))"
   ]
  },
  {
   "cell_type": "code",
   "execution_count": 77,
   "metadata": {},
   "outputs": [
    {
     "data": {
      "application/vnd.jupyter.widget-view+json": {
       "model_id": "753836e719b840128f8b2b85e981595e",
       "version_major": 2,
       "version_minor": 0
      },
      "text/plain": [
       "HBox(children=(FloatProgress(value=0.0, max=86.0), HTML(value='')))"
      ]
     },
     "metadata": {},
     "output_type": "display_data"
    },
    {
     "name": "stdout",
     "output_type": "stream",
     "text": [
      "\n"
     ]
    },
    {
     "data": {
      "text/html": [
       "<div>\n",
       "<style scoped>\n",
       "    .dataframe tbody tr th:only-of-type {\n",
       "        vertical-align: middle;\n",
       "    }\n",
       "\n",
       "    .dataframe tbody tr th {\n",
       "        vertical-align: top;\n",
       "    }\n",
       "\n",
       "    .dataframe thead th {\n",
       "        text-align: right;\n",
       "    }\n",
       "</style>\n",
       "<table border=\"1\" class=\"dataframe\">\n",
       "  <thead>\n",
       "    <tr style=\"text-align: right;\">\n",
       "      <th></th>\n",
       "      <th>releaseTimestamp</th>\n",
       "      <th>date</th>\n",
       "      <th>areaName</th>\n",
       "      <th>areaCode</th>\n",
       "      <th>newCasesBySpecimenDate</th>\n",
       "    </tr>\n",
       "  </thead>\n",
       "  <tbody>\n",
       "    <tr>\n",
       "      <th>0</th>\n",
       "      <td>2020-08-19</td>\n",
       "      <td>2020-08-19</td>\n",
       "      <td>Aberdeen City</td>\n",
       "      <td>S12000033</td>\n",
       "      <td>8.0</td>\n",
       "    </tr>\n",
       "    <tr>\n",
       "      <th>1</th>\n",
       "      <td>2020-08-19</td>\n",
       "      <td>2020-08-18</td>\n",
       "      <td>Aberdeen City</td>\n",
       "      <td>S12000033</td>\n",
       "      <td>NaN</td>\n",
       "    </tr>\n",
       "    <tr>\n",
       "      <th>2</th>\n",
       "      <td>2020-08-19</td>\n",
       "      <td>2020-08-17</td>\n",
       "      <td>Aberdeen City</td>\n",
       "      <td>S12000033</td>\n",
       "      <td>NaN</td>\n",
       "    </tr>\n",
       "    <tr>\n",
       "      <th>3</th>\n",
       "      <td>2020-08-19</td>\n",
       "      <td>2020-08-16</td>\n",
       "      <td>Aberdeen City</td>\n",
       "      <td>S12000033</td>\n",
       "      <td>NaN</td>\n",
       "    </tr>\n",
       "    <tr>\n",
       "      <th>4</th>\n",
       "      <td>2020-08-19</td>\n",
       "      <td>2020-08-15</td>\n",
       "      <td>Aberdeen City</td>\n",
       "      <td>S12000033</td>\n",
       "      <td>NaN</td>\n",
       "    </tr>\n",
       "    <tr>\n",
       "      <th>...</th>\n",
       "      <td>...</td>\n",
       "      <td>...</td>\n",
       "      <td>...</td>\n",
       "      <td>...</td>\n",
       "      <td>...</td>\n",
       "    </tr>\n",
       "    <tr>\n",
       "      <th>85555</th>\n",
       "      <td>2020-08-19</td>\n",
       "      <td>2020-04-26</td>\n",
       "      <td>Wigan</td>\n",
       "      <td>E08000010</td>\n",
       "      <td>34.0</td>\n",
       "    </tr>\n",
       "    <tr>\n",
       "      <th>85556</th>\n",
       "      <td>2020-08-19</td>\n",
       "      <td>2020-04-25</td>\n",
       "      <td>Wigan</td>\n",
       "      <td>E08000010</td>\n",
       "      <td>43.0</td>\n",
       "    </tr>\n",
       "    <tr>\n",
       "      <th>85557</th>\n",
       "      <td>2020-08-19</td>\n",
       "      <td>2020-04-24</td>\n",
       "      <td>Wigan</td>\n",
       "      <td>E08000010</td>\n",
       "      <td>68.0</td>\n",
       "    </tr>\n",
       "    <tr>\n",
       "      <th>85558</th>\n",
       "      <td>2020-08-19</td>\n",
       "      <td>2020-04-23</td>\n",
       "      <td>Wigan</td>\n",
       "      <td>E08000010</td>\n",
       "      <td>77.0</td>\n",
       "    </tr>\n",
       "    <tr>\n",
       "      <th>85559</th>\n",
       "      <td>2020-08-19</td>\n",
       "      <td>2020-04-22</td>\n",
       "      <td>Wigan</td>\n",
       "      <td>E08000010</td>\n",
       "      <td>72.0</td>\n",
       "    </tr>\n",
       "  </tbody>\n",
       "</table>\n",
       "<p>85560 rows × 5 columns</p>\n",
       "</div>"
      ],
      "text/plain": [
       "      releaseTimestamp        date       areaName   areaCode  \\\n",
       "0           2020-08-19  2020-08-19  Aberdeen City  S12000033   \n",
       "1           2020-08-19  2020-08-18  Aberdeen City  S12000033   \n",
       "2           2020-08-19  2020-08-17  Aberdeen City  S12000033   \n",
       "3           2020-08-19  2020-08-16  Aberdeen City  S12000033   \n",
       "4           2020-08-19  2020-08-15  Aberdeen City  S12000033   \n",
       "...                ...         ...            ...        ...   \n",
       "85555       2020-08-19  2020-04-26          Wigan  E08000010   \n",
       "85556       2020-08-19  2020-04-25          Wigan  E08000010   \n",
       "85557       2020-08-19  2020-04-24          Wigan  E08000010   \n",
       "85558       2020-08-19  2020-04-23          Wigan  E08000010   \n",
       "85559       2020-08-19  2020-04-22          Wigan  E08000010   \n",
       "\n",
       "       newCasesBySpecimenDate  \n",
       "0                         8.0  \n",
       "1                         NaN  \n",
       "2                         NaN  \n",
       "3                         NaN  \n",
       "4                         NaN  \n",
       "...                       ...  \n",
       "85555                    34.0  \n",
       "85556                    43.0  \n",
       "85557                    68.0  \n",
       "85558                    77.0  \n",
       "85559                    72.0  \n",
       "\n",
       "[85560 rows x 5 columns]"
      ]
     },
     "execution_count": 77,
     "metadata": {},
     "output_type": "execute_result"
    }
   ],
   "source": [
    "area_data = query(\n",
    "    filters={area_type: ltla}, \n",
    "    structure=[release_timestamp, date, area_name, area_code, new_cases_by_specimen_date],\n",
    "    max_workers=10\n",
    ")\n",
    "area_data"
   ]
  },
  {
   "cell_type": "code",
   "execution_count": 78,
   "metadata": {},
   "outputs": [
    {
     "data": {
      "text/plain": [
       "'~/Downloads/phe_area_2020-08-19_2020-08-19-18-50.pickle'"
      ]
     },
     "execution_count": 78,
     "metadata": {},
     "output_type": "execute_result"
    }
   ],
   "source": [
    "pickle('area', area_data)"
   ]
  }
 ],
 "metadata": {
  "kernelspec": {
   "display_name": "Python 3",
   "language": "python",
   "name": "python3"
  },
  "language_info": {
   "codemirror_mode": {
    "name": "ipython",
    "version": 3
   },
   "file_extension": ".py",
   "mimetype": "text/x-python",
   "name": "python",
   "nbconvert_exporter": "python",
   "pygments_lexer": "ipython3",
   "version": "3.8.2"
  }
 },
 "nbformat": 4,
 "nbformat_minor": 4
}