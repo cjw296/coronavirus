{
 "cells": [
  {
   "cell_type": "code",
   "execution_count": 1,
   "metadata": {},
   "outputs": [],
   "source": [
    "from datetime import datetime, timedelta, date\n",
    "import pandas as pd\n",
    "from constants import *\n",
    "from download import query_phe as query, download_phe as download\n",
    "from phe import plot_summary, read_csv"
   ]
  },
  {
   "cell_type": "code",
   "execution_count": 2,
   "metadata": {},
   "outputs": [],
   "source": [
    "release='2020-12-30'"
   ]
  },
  {
   "cell_type": "code",
   "execution_count": 3,
   "metadata": {},
   "outputs": [
    {
     "data": {
      "text/html": [
       "<div>\n",
       "<style scoped>\n",
       "    .dataframe tbody tr th:only-of-type {\n",
       "        vertical-align: middle;\n",
       "    }\n",
       "\n",
       "    .dataframe tbody tr th {\n",
       "        vertical-align: top;\n",
       "    }\n",
       "\n",
       "    .dataframe thead th {\n",
       "        text-align: right;\n",
       "    }\n",
       "</style>\n",
       "<table border=\"1\" class=\"dataframe\">\n",
       "  <thead>\n",
       "    <tr style=\"text-align: right;\">\n",
       "      <th></th>\n",
       "      <th>releaseTimestamp</th>\n",
       "      <th>date</th>\n",
       "      <th>areaName</th>\n",
       "      <th>areaCode</th>\n",
       "      <th>newCasesBySpecimenDate</th>\n",
       "      <th>newAdmissions</th>\n",
       "      <th>newDeaths28DaysByDeathDate</th>\n",
       "      <th>newVirusTests</th>\n",
       "    </tr>\n",
       "  </thead>\n",
       "  <tbody>\n",
       "    <tr>\n",
       "      <th>0</th>\n",
       "      <td>2020-12-30</td>\n",
       "      <td>2020-12-29</td>\n",
       "      <td>United Kingdom</td>\n",
       "      <td>K02000001</td>\n",
       "      <td>8044</td>\n",
       "      <td>NaN</td>\n",
       "      <td>154.0</td>\n",
       "      <td>344775.0</td>\n",
       "    </tr>\n",
       "    <tr>\n",
       "      <th>1</th>\n",
       "      <td>2020-12-30</td>\n",
       "      <td>2020-12-28</td>\n",
       "      <td>United Kingdom</td>\n",
       "      <td>K02000001</td>\n",
       "      <td>28162</td>\n",
       "      <td>NaN</td>\n",
       "      <td>350.0</td>\n",
       "      <td>357238.0</td>\n",
       "    </tr>\n",
       "    <tr>\n",
       "      <th>2</th>\n",
       "      <td>2020-12-30</td>\n",
       "      <td>2020-12-27</td>\n",
       "      <td>United Kingdom</td>\n",
       "      <td>K02000001</td>\n",
       "      <td>43417</td>\n",
       "      <td>NaN</td>\n",
       "      <td>380.0</td>\n",
       "      <td>352702.0</td>\n",
       "    </tr>\n",
       "    <tr>\n",
       "      <th>3</th>\n",
       "      <td>2020-12-30</td>\n",
       "      <td>2020-12-26</td>\n",
       "      <td>United Kingdom</td>\n",
       "      <td>K02000001</td>\n",
       "      <td>38282</td>\n",
       "      <td>NaN</td>\n",
       "      <td>429.0</td>\n",
       "      <td>269876.0</td>\n",
       "    </tr>\n",
       "    <tr>\n",
       "      <th>4</th>\n",
       "      <td>2020-12-30</td>\n",
       "      <td>2020-12-25</td>\n",
       "      <td>United Kingdom</td>\n",
       "      <td>K02000001</td>\n",
       "      <td>13966</td>\n",
       "      <td>NaN</td>\n",
       "      <td>393.0</td>\n",
       "      <td>339024.0</td>\n",
       "    </tr>\n",
       "    <tr>\n",
       "      <th>...</th>\n",
       "      <td>...</td>\n",
       "      <td>...</td>\n",
       "      <td>...</td>\n",
       "      <td>...</td>\n",
       "      <td>...</td>\n",
       "      <td>...</td>\n",
       "      <td>...</td>\n",
       "      <td>...</td>\n",
       "    </tr>\n",
       "    <tr>\n",
       "      <th>349</th>\n",
       "      <td>2020-12-30</td>\n",
       "      <td>2020-01-15</td>\n",
       "      <td>United Kingdom</td>\n",
       "      <td>K02000001</td>\n",
       "      <td>0</td>\n",
       "      <td>NaN</td>\n",
       "      <td>NaN</td>\n",
       "      <td>NaN</td>\n",
       "    </tr>\n",
       "    <tr>\n",
       "      <th>350</th>\n",
       "      <td>2020-12-30</td>\n",
       "      <td>2020-01-14</td>\n",
       "      <td>United Kingdom</td>\n",
       "      <td>K02000001</td>\n",
       "      <td>0</td>\n",
       "      <td>NaN</td>\n",
       "      <td>NaN</td>\n",
       "      <td>NaN</td>\n",
       "    </tr>\n",
       "    <tr>\n",
       "      <th>351</th>\n",
       "      <td>2020-12-30</td>\n",
       "      <td>2020-01-13</td>\n",
       "      <td>United Kingdom</td>\n",
       "      <td>K02000001</td>\n",
       "      <td>0</td>\n",
       "      <td>NaN</td>\n",
       "      <td>NaN</td>\n",
       "      <td>NaN</td>\n",
       "    </tr>\n",
       "    <tr>\n",
       "      <th>352</th>\n",
       "      <td>2020-12-30</td>\n",
       "      <td>2020-01-12</td>\n",
       "      <td>United Kingdom</td>\n",
       "      <td>K02000001</td>\n",
       "      <td>0</td>\n",
       "      <td>NaN</td>\n",
       "      <td>NaN</td>\n",
       "      <td>NaN</td>\n",
       "    </tr>\n",
       "    <tr>\n",
       "      <th>353</th>\n",
       "      <td>2020-12-30</td>\n",
       "      <td>2020-01-11</td>\n",
       "      <td>United Kingdom</td>\n",
       "      <td>K02000001</td>\n",
       "      <td>1</td>\n",
       "      <td>NaN</td>\n",
       "      <td>NaN</td>\n",
       "      <td>NaN</td>\n",
       "    </tr>\n",
       "  </tbody>\n",
       "</table>\n",
       "<p>354 rows × 8 columns</p>\n",
       "</div>"
      ],
      "text/plain": [
       "    releaseTimestamp        date        areaName   areaCode  \\\n",
       "0         2020-12-30  2020-12-29  United Kingdom  K02000001   \n",
       "1         2020-12-30  2020-12-28  United Kingdom  K02000001   \n",
       "2         2020-12-30  2020-12-27  United Kingdom  K02000001   \n",
       "3         2020-12-30  2020-12-26  United Kingdom  K02000001   \n",
       "4         2020-12-30  2020-12-25  United Kingdom  K02000001   \n",
       "..               ...         ...             ...        ...   \n",
       "349       2020-12-30  2020-01-15  United Kingdom  K02000001   \n",
       "350       2020-12-30  2020-01-14  United Kingdom  K02000001   \n",
       "351       2020-12-30  2020-01-13  United Kingdom  K02000001   \n",
       "352       2020-12-30  2020-01-12  United Kingdom  K02000001   \n",
       "353       2020-12-30  2020-01-11  United Kingdom  K02000001   \n",
       "\n",
       "     newCasesBySpecimenDate  newAdmissions  newDeaths28DaysByDeathDate  \\\n",
       "0                      8044            NaN                       154.0   \n",
       "1                     28162            NaN                       350.0   \n",
       "2                     43417            NaN                       380.0   \n",
       "3                     38282            NaN                       429.0   \n",
       "4                     13966            NaN                       393.0   \n",
       "..                      ...            ...                         ...   \n",
       "349                       0            NaN                         NaN   \n",
       "350                       0            NaN                         NaN   \n",
       "351                       0            NaN                         NaN   \n",
       "352                       0            NaN                         NaN   \n",
       "353                       1            NaN                         NaN   \n",
       "\n",
       "     newVirusTests  \n",
       "0         344775.0  \n",
       "1         357238.0  \n",
       "2         352702.0  \n",
       "3         269876.0  \n",
       "4         339024.0  \n",
       "..             ...  \n",
       "349            NaN  \n",
       "350            NaN  \n",
       "351            NaN  \n",
       "352            NaN  \n",
       "353            NaN  \n",
       "\n",
       "[354 rows x 8 columns]"
      ]
     },
     "execution_count": 3,
     "metadata": {},
     "output_type": "execute_result"
    }
   ],
   "source": [
    "overview_data = query(\n",
    "    filters={area_type: overview},\n",
    "    structure=[release_timestamp, date_col, area_name, area_code,\n",
    "               new_cases_by_specimen_date, new_admissions, new_deaths_by_death_date,\n",
    "               new_virus_tests]\n",
    ")\n",
    "overview_data"
   ]
  },
  {
   "cell_type": "code",
   "execution_count": 4,
   "metadata": {},
   "outputs": [
    {
     "data": {
      "text/plain": [
       "PosixPath('/Users/chris/coronavirus/data/england_2020-12-30.csv')"
      ]
     },
     "execution_count": 4,
     "metadata": {},
     "output_type": "execute_result"
    }
   ],
   "source": [
    "download('england', 'nation', new_admissions_sum, new_cases_sum, new_deaths_sum, unique_people_tested_sum, area_name='England', release=release)"
   ]
  },
  {
   "cell_type": "code",
   "execution_count": 5,
   "metadata": {},
   "outputs": [
    {
     "data": {
      "image/png": "[encoded data removed]",
      "text/plain": [
       "<Figure size 1152x720 with 2 Axes>"
      ]
     },
     "metadata": {},
     "output_type": "display_data"
    }
   ],
   "source": [
    "plot_summary(earliest_date='2020-03-01', tested_formatter=lambda y, pos: f\"{y / 1_000:,.0f}k\")"
   ]
  },
  {
   "cell_type": "code",
   "execution_count": 6,
   "metadata": {},
   "outputs": [
    {
     "data": {
      "text/plain": [
       "PosixPath('/Users/chris/coronavirus/data/vaccination_2020-12-30.csv')"
      ]
     },
     "execution_count": 6,
     "metadata": {},
     "output_type": "execute_result"
    }
   ],
   "source": [
    "vaccine_path = download('vaccination', 'nation', first_dose, second_dose, first_dose_cum, second_dose_cum, release=release)\n",
    "vaccine_path"
   ]
  },
  {
   "cell_type": "code",
   "execution_count": 7,
   "metadata": {},
   "outputs": [
    {
     "data": {
      "text/html": [
       "<div>\n",
       "<style scoped>\n",
       "    .dataframe tbody tr th:only-of-type {\n",
       "        vertical-align: middle;\n",
       "    }\n",
       "\n",
       "    .dataframe tbody tr th {\n",
       "        vertical-align: top;\n",
       "    }\n",
       "\n",
       "    .dataframe thead th {\n",
       "        text-align: right;\n",
       "    }\n",
       "</style>\n",
       "<table border=\"1\" class=\"dataframe\">\n",
       "  <thead>\n",
       "    <tr style=\"text-align: right;\">\n",
       "      <th></th>\n",
       "      <th>date</th>\n",
       "      <th>areaType</th>\n",
       "      <th>areaCode</th>\n",
       "      <th>areaName</th>\n",
       "      <th>newPeopleReceivingFirstDose</th>\n",
       "      <th>newPeopleReceivingSecondDose</th>\n",
       "      <th>cumPeopleReceivingFirstDose</th>\n",
       "      <th>cumPeopleReceivingSecondDose</th>\n",
       "    </tr>\n",
       "  </thead>\n",
       "  <tbody>\n",
       "    <tr>\n",
       "      <th>0</th>\n",
       "      <td>2020-12-20</td>\n",
       "      <td>nation</td>\n",
       "      <td>S92000003</td>\n",
       "      <td>Scotland</td>\n",
       "      <td>37876</td>\n",
       "      <td>0</td>\n",
       "      <td>56676</td>\n",
       "      <td>0</td>\n",
       "    </tr>\n",
       "    <tr>\n",
       "      <th>1</th>\n",
       "      <td>2020-12-13</td>\n",
       "      <td>nation</td>\n",
       "      <td>S92000003</td>\n",
       "      <td>Scotland</td>\n",
       "      <td>18800</td>\n",
       "      <td>0</td>\n",
       "      <td>18800</td>\n",
       "      <td>0</td>\n",
       "    </tr>\n",
       "    <tr>\n",
       "      <th>2</th>\n",
       "      <td>2020-12-20</td>\n",
       "      <td>nation</td>\n",
       "      <td>E92000001</td>\n",
       "      <td>England</td>\n",
       "      <td>521594</td>\n",
       "      <td>0</td>\n",
       "      <td>521594</td>\n",
       "      <td>0</td>\n",
       "    </tr>\n",
       "    <tr>\n",
       "      <th>3</th>\n",
       "      <td>2020-12-20</td>\n",
       "      <td>nation</td>\n",
       "      <td>N92000002</td>\n",
       "      <td>Northern Ireland</td>\n",
       "      <td>12445</td>\n",
       "      <td>0</td>\n",
       "      <td>16068</td>\n",
       "      <td>0</td>\n",
       "    </tr>\n",
       "    <tr>\n",
       "      <th>4</th>\n",
       "      <td>2020-12-13</td>\n",
       "      <td>nation</td>\n",
       "      <td>N92000002</td>\n",
       "      <td>Northern Ireland</td>\n",
       "      <td>3623</td>\n",
       "      <td>0</td>\n",
       "      <td>3623</td>\n",
       "      <td>0</td>\n",
       "    </tr>\n",
       "    <tr>\n",
       "      <th>5</th>\n",
       "      <td>2020-12-20</td>\n",
       "      <td>nation</td>\n",
       "      <td>W92000004</td>\n",
       "      <td>Wales</td>\n",
       "      <td>14743</td>\n",
       "      <td>0</td>\n",
       "      <td>22595</td>\n",
       "      <td>0</td>\n",
       "    </tr>\n",
       "    <tr>\n",
       "      <th>6</th>\n",
       "      <td>2020-12-13</td>\n",
       "      <td>nation</td>\n",
       "      <td>W92000004</td>\n",
       "      <td>Wales</td>\n",
       "      <td>7852</td>\n",
       "      <td>0</td>\n",
       "      <td>7852</td>\n",
       "      <td>0</td>\n",
       "    </tr>\n",
       "  </tbody>\n",
       "</table>\n",
       "</div>"
      ],
      "text/plain": [
       "        date areaType   areaCode          areaName  \\\n",
       "0 2020-12-20   nation  S92000003          Scotland   \n",
       "1 2020-12-13   nation  S92000003          Scotland   \n",
       "2 2020-12-20   nation  E92000001           England   \n",
       "3 2020-12-20   nation  N92000002  Northern Ireland   \n",
       "4 2020-12-13   nation  N92000002  Northern Ireland   \n",
       "5 2020-12-20   nation  W92000004             Wales   \n",
       "6 2020-12-13   nation  W92000004             Wales   \n",
       "\n",
       "   newPeopleReceivingFirstDose  newPeopleReceivingSecondDose  \\\n",
       "0                        37876                             0   \n",
       "1                        18800                             0   \n",
       "2                       521594                             0   \n",
       "3                        12445                             0   \n",
       "4                         3623                             0   \n",
       "5                        14743                             0   \n",
       "6                         7852                             0   \n",
       "\n",
       "   cumPeopleReceivingFirstDose  cumPeopleReceivingSecondDose  \n",
       "0                        56676                             0  \n",
       "1                        18800                             0  \n",
       "2                       521594                             0  \n",
       "3                        16068                             0  \n",
       "4                         3623                             0  \n",
       "5                        22595                             0  \n",
       "6                         7852                             0  "
      ]
     },
     "execution_count": 7,
     "metadata": {},
     "output_type": "execute_result"
    }
   ],
   "source": [
    "read_csv(vaccine_path)"
   ]
  },
  {
   "cell_type": "code",
   "execution_count": 9,
   "metadata": {},
   "outputs": [
    {
     "data": {
      "text/plain": [
       "PosixPath('/Users/chris/coronavirus/data/nation_2020-12-30.csv')"
      ]
     },
     "execution_count": 9,
     "metadata": {},
     "output_type": "execute_result"
    }
   ],
   "source": [
    "download(nation, nation, *standard_metrics, release=release)"
   ]
  },
  {
   "cell_type": "code",
   "execution_count": 11,
   "metadata": {},
   "outputs": [
    {
     "data": {
      "text/plain": [
       "PosixPath('/Users/chris/coronavirus/data/region_2020-12-30.csv')"
      ]
     },
     "execution_count": 11,
     "metadata": {},
     "output_type": "execute_result"
    }
   ],
   "source": [
    "download(region, region, *standard_metrics, release=release)"
   ]
  },
  {
   "cell_type": "code",
   "execution_count": 12,
   "metadata": {},
   "outputs": [
    {
     "data": {
      "text/plain": [
       "PosixPath('/Users/chris/coronavirus/data/ltla_2020-12-30.csv')"
      ]
     },
     "execution_count": 12,
     "metadata": {},
     "output_type": "execute_result"
    }
   ],
   "source": [
    "download(ltla, ltla, *standard_metrics, release=release)"
   ]
  },
  {
   "cell_type": "code",
   "execution_count": 13,
   "metadata": {},
   "outputs": [
    {
     "data": {
      "text/plain": [
       "PosixPath('/Users/chris/coronavirus/data/msoa_2020-12-30.csv')"
      ]
     },
     "execution_count": 13,
     "metadata": {},
     "output_type": "execute_result"
    }
   ],
   "source": [
    "download(msoa, msoa, new_cases_sum, new_cases_rate, new_cases_change, release=release)"
   ]
  }
 ],
 "metadata": {
  "kernelspec": {
   "display_name": "Python 3",
   "language": "python",
   "name": "python3"
  },
  "language_info": {
   "codemirror_mode": {
    "name": "ipython",
    "version": 3
   },
   "file_extension": ".py",
   "mimetype": "text/x-python",
   "name": "python",
   "nbconvert_exporter": "python",
   "pygments_lexer": "ipython3",
   "version": "3.8.2"
  }
 },
 "nbformat": 4,
 "nbformat_minor": 4
}
