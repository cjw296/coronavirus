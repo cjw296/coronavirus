{
 "cells": [
  {
   "cell_type": "code",
   "execution_count": 176,
   "metadata": {},
   "outputs": [],
   "source": [
    "import concurrent.futures\n",
    "import json\n",
    "import requests\n",
    "\n",
    "from datetime import datetime\n",
    "from pathlib import Path\n",
    "\n",
    "import pandas as pd\n",
    "\n",
    "from tqdm.notebook import tqdm\n",
    "from urllib.parse import urlparse, parse_qs"
   ]
  },
  {
   "cell_type": "code",
   "execution_count": 177,
   "metadata": {},
   "outputs": [],
   "source": [
    "storage = str(Path('~/Downloads').expanduser())\n",
    "\n",
    "area_code = 'areaCode'\n",
    "area_name = 'areaName'\n",
    "area_type = 'areaType'\n",
    "date = 'date'\n",
    "new_cases_by_specimen_date = 'newCasesBySpecimenDate'\n",
    "new_deaths_by_death_date = 'newDeaths28DaysByDeathDate'\n",
    "new_tests_by_publish_date = 'newTestsByPublishDate'\n",
    "release_timestamp = 'releaseTimestamp'\n",
    "\n",
    "ltla = 'ltla'\n",
    "nation = 'nation'\n",
    "overview = 'overview'"
   ]
  },
  {
   "cell_type": "code",
   "execution_count": 178,
   "metadata": {},
   "outputs": [],
   "source": [
    "def get(filters, structure, **params):\n",
    "    _params={\n",
    "        'filters':';'.join(f'{k}={v}' for (k, v) in filters.items()),\n",
    "        'structure': json.dumps({element:element for element in structure})\n",
    "    }\n",
    "    _params.update(params)\n",
    "    response = requests.get('https://api.coronavirus.data.gov.uk/v1/data', timeout=20, params=_params)\n",
    "    if response.status_code != 200:\n",
    "        raise ValueError(response.status_code)\n",
    "    return response.json()"
   ]
  },
  {
   "cell_type": "code",
   "execution_count": 179,
   "metadata": {},
   "outputs": [],
   "source": [
    "def pickle(name, df):\n",
    "    for_dates = df[release_timestamp].unique()\n",
    "    assert len(for_dates) == 1, for_dates\n",
    "    for_date, = for_dates\n",
    "    path = f'~/Downloads/phe_{name}_{for_date}_{datetime.now():%Y-%m-%d-%H-%M}.pickle'\n",
    "    df.to_pickle(path)\n",
    "    return path"
   ]
  },
  {
   "cell_type": "code",
   "execution_count": 181,
   "metadata": {},
   "outputs": [],
   "source": [
    "def query(filters, structure, max_workers=None, **params):\n",
    "    page = 1\n",
    "    response = get(filters, structure, page=page, **params)\n",
    "    result = response['data']\n",
    "    max_page = int(parse_qs(urlparse(response['pagination']['last']).query)['page'][0])\n",
    "    if max_page > 1:\n",
    "        t = tqdm(total=max_page)\n",
    "        t.update(1)\n",
    "        todo = range(2, max_page+1)\n",
    "        attempt = 0\n",
    "        with concurrent.futures.ThreadPoolExecutor(max_workers=max_workers or max_page-1) as executor:\n",
    "            while todo:\n",
    "                attempt += 1\n",
    "                bad = []\n",
    "                t.set_postfix({'errors': len(bad), 'attempt': attempt})\n",
    "                futures = {executor.submit(get, filters, structure, page=page, **params): page \n",
    "                           for page in todo}\n",
    "                for future in concurrent.futures.as_completed(futures):\n",
    "                    page = futures[future]\n",
    "                    try:\n",
    "                        response = future.result()\n",
    "                    except Exception as exc:\n",
    "                        bad.append(page)\n",
    "                        t.set_postfix({'errors': len(bad), 'attempt': attempt})\n",
    "                    else:\n",
    "                        result.extend(response['data'])\n",
    "                        t.update(1)\n",
    "                todo = bad\n",
    "        t.close()\n",
    "    return pd.DataFrame(result)"
   ]
  },
  {
   "cell_type": "code",
   "execution_count": 53,
   "metadata": {},
   "outputs": [
    {
     "data": {
      "text/html": [
       "<div>\n",
       "<style scoped>\n",
       "    .dataframe tbody tr th:only-of-type {\n",
       "        vertical-align: middle;\n",
       "    }\n",
       "\n",
       "    .dataframe tbody tr th {\n",
       "        vertical-align: top;\n",
       "    }\n",
       "\n",
       "    .dataframe thead th {\n",
       "        text-align: right;\n",
       "    }\n",
       "</style>\n",
       "<table border=\"1\" class=\"dataframe\">\n",
       "  <thead>\n",
       "    <tr style=\"text-align: right;\">\n",
       "      <th></th>\n",
       "      <th>releaseTimestamp</th>\n",
       "      <th>date</th>\n",
       "      <th>areaName</th>\n",
       "      <th>areaCode</th>\n",
       "      <th>newCasesBySpecimenDate</th>\n",
       "      <th>newDeaths28DaysByDeathDate</th>\n",
       "      <th>newTestsByPublishDate</th>\n",
       "    </tr>\n",
       "  </thead>\n",
       "  <tbody>\n",
       "    <tr>\n",
       "      <th>0</th>\n",
       "      <td>2020-09-09</td>\n",
       "      <td>2020-09-09</td>\n",
       "      <td>United Kingdom</td>\n",
       "      <td>K02000001</td>\n",
       "      <td>NaN</td>\n",
       "      <td>NaN</td>\n",
       "      <td>NaN</td>\n",
       "    </tr>\n",
       "    <tr>\n",
       "      <th>1</th>\n",
       "      <td>2020-09-09</td>\n",
       "      <td>2020-09-08</td>\n",
       "      <td>United Kingdom</td>\n",
       "      <td>K02000001</td>\n",
       "      <td>NaN</td>\n",
       "      <td>3.0</td>\n",
       "      <td>NaN</td>\n",
       "    </tr>\n",
       "    <tr>\n",
       "      <th>2</th>\n",
       "      <td>2020-09-09</td>\n",
       "      <td>2020-09-07</td>\n",
       "      <td>United Kingdom</td>\n",
       "      <td>K02000001</td>\n",
       "      <td>904.0</td>\n",
       "      <td>13.0</td>\n",
       "      <td>NaN</td>\n",
       "    </tr>\n",
       "    <tr>\n",
       "      <th>3</th>\n",
       "      <td>2020-09-09</td>\n",
       "      <td>2020-09-06</td>\n",
       "      <td>United Kingdom</td>\n",
       "      <td>K02000001</td>\n",
       "      <td>1877.0</td>\n",
       "      <td>9.0</td>\n",
       "      <td>NaN</td>\n",
       "    </tr>\n",
       "    <tr>\n",
       "      <th>4</th>\n",
       "      <td>2020-09-09</td>\n",
       "      <td>2020-09-05</td>\n",
       "      <td>United Kingdom</td>\n",
       "      <td>K02000001</td>\n",
       "      <td>2327.0</td>\n",
       "      <td>10.0</td>\n",
       "      <td>NaN</td>\n",
       "    </tr>\n",
       "    <tr>\n",
       "      <th>...</th>\n",
       "      <td>...</td>\n",
       "      <td>...</td>\n",
       "      <td>...</td>\n",
       "      <td>...</td>\n",
       "      <td>...</td>\n",
       "      <td>...</td>\n",
       "      <td>...</td>\n",
       "    </tr>\n",
       "    <tr>\n",
       "      <th>246</th>\n",
       "      <td>2020-09-09</td>\n",
       "      <td>2020-01-07</td>\n",
       "      <td>United Kingdom</td>\n",
       "      <td>K02000001</td>\n",
       "      <td>NaN</td>\n",
       "      <td>NaN</td>\n",
       "      <td>NaN</td>\n",
       "    </tr>\n",
       "    <tr>\n",
       "      <th>247</th>\n",
       "      <td>2020-09-09</td>\n",
       "      <td>2020-01-06</td>\n",
       "      <td>United Kingdom</td>\n",
       "      <td>K02000001</td>\n",
       "      <td>NaN</td>\n",
       "      <td>NaN</td>\n",
       "      <td>NaN</td>\n",
       "    </tr>\n",
       "    <tr>\n",
       "      <th>248</th>\n",
       "      <td>2020-09-09</td>\n",
       "      <td>2020-01-05</td>\n",
       "      <td>United Kingdom</td>\n",
       "      <td>K02000001</td>\n",
       "      <td>NaN</td>\n",
       "      <td>NaN</td>\n",
       "      <td>NaN</td>\n",
       "    </tr>\n",
       "    <tr>\n",
       "      <th>249</th>\n",
       "      <td>2020-09-09</td>\n",
       "      <td>2020-01-04</td>\n",
       "      <td>United Kingdom</td>\n",
       "      <td>K02000001</td>\n",
       "      <td>NaN</td>\n",
       "      <td>NaN</td>\n",
       "      <td>NaN</td>\n",
       "    </tr>\n",
       "    <tr>\n",
       "      <th>250</th>\n",
       "      <td>2020-09-09</td>\n",
       "      <td>2020-01-03</td>\n",
       "      <td>United Kingdom</td>\n",
       "      <td>K02000001</td>\n",
       "      <td>NaN</td>\n",
       "      <td>NaN</td>\n",
       "      <td>NaN</td>\n",
       "    </tr>\n",
       "  </tbody>\n",
       "</table>\n",
       "<p>251 rows × 7 columns</p>\n",
       "</div>"
      ],
      "text/plain": [
       "    releaseTimestamp        date        areaName   areaCode  \\\n",
       "0         2020-09-09  2020-09-09  United Kingdom  K02000001   \n",
       "1         2020-09-09  2020-09-08  United Kingdom  K02000001   \n",
       "2         2020-09-09  2020-09-07  United Kingdom  K02000001   \n",
       "3         2020-09-09  2020-09-06  United Kingdom  K02000001   \n",
       "4         2020-09-09  2020-09-05  United Kingdom  K02000001   \n",
       "..               ...         ...             ...        ...   \n",
       "246       2020-09-09  2020-01-07  United Kingdom  K02000001   \n",
       "247       2020-09-09  2020-01-06  United Kingdom  K02000001   \n",
       "248       2020-09-09  2020-01-05  United Kingdom  K02000001   \n",
       "249       2020-09-09  2020-01-04  United Kingdom  K02000001   \n",
       "250       2020-09-09  2020-01-03  United Kingdom  K02000001   \n",
       "\n",
       "     newCasesBySpecimenDate  newDeaths28DaysByDeathDate  newTestsByPublishDate  \n",
       "0                       NaN                         NaN                    NaN  \n",
       "1                       NaN                         3.0                    NaN  \n",
       "2                     904.0                        13.0                    NaN  \n",
       "3                    1877.0                         9.0                    NaN  \n",
       "4                    2327.0                        10.0                    NaN  \n",
       "..                      ...                         ...                    ...  \n",
       "246                     NaN                         NaN                    NaN  \n",
       "247                     NaN                         NaN                    NaN  \n",
       "248                     NaN                         NaN                    NaN  \n",
       "249                     NaN                         NaN                    NaN  \n",
       "250                     NaN                         NaN                    NaN  \n",
       "\n",
       "[251 rows x 7 columns]"
      ]
     },
     "execution_count": 53,
     "metadata": {},
     "output_type": "execute_result"
    }
   ],
   "source": [
    "overview_data = query(\n",
    "    filters={area_type: overview}, \n",
    "    structure=[release_timestamp, date, area_name, area_code, \n",
    "               new_cases_by_specimen_date, new_deaths_by_death_date, new_tests_by_publish_date]\n",
    ")\n",
    "overview_data"
   ]
  },
  {
   "cell_type": "code",
   "execution_count": 54,
   "metadata": {},
   "outputs": [
    {
     "data": {
      "text/plain": [
       "'~/Downloads/phe_overview_2020-09-09_2020-09-09-18-53.pickle'"
      ]
     },
     "execution_count": 54,
     "metadata": {},
     "output_type": "execute_result"
    }
   ],
   "source": [
    "pickle('overview', overview_data)"
   ]
  },
  {
   "cell_type": "code",
   "execution_count": 55,
   "metadata": {},
   "outputs": [
    {
     "data": {
      "text/plain": [
       "<matplotlib.axes._subplots.AxesSubplot at 0x7fef90ba7970>"
      ]
     },
     "execution_count": 55,
     "metadata": {},
     "output_type": "execute_result"
    },
    {
     "data": {
      "image/png": "[encoded data removed]",
      "text/plain": [
       "<Figure size 1008x216 with 1 Axes>"
      ]
     },
     "metadata": {
      "needs_background": "light"
     },
     "output_type": "display_data"
    }
   ],
   "source": [
    "overview_data.index = pd.to_datetime(overview_data[date])\n",
    "overview_data.sort_index(inplace=True)\n",
    "smoothed_overview_data = overview_data.rolling(window=7).mean()\n",
    "cases_per_test = (smoothed_overview_data[new_cases_by_specimen_date] / smoothed_overview_data[new_tests_by_publish_date])\n",
    "cases_per_test.loc['2020-07-15':].plot(figsize=(14,3))"
   ]
  },
  {
   "cell_type": "code",
   "execution_count": 56,
   "metadata": {},
   "outputs": [
    {
     "data": {
      "application/vnd.jupyter.widget-view+json": {
       "model_id": "14e5c3afd6e54f2bb2ffcfb28549c433",
       "version_major": 2,
       "version_minor": 0
      },
      "text/plain": [
       "HBox(children=(FloatProgress(value=0.0, max=2.0), HTML(value='')))"
      ]
     },
     "metadata": {},
     "output_type": "display_data"
    },
    {
     "name": "stdout",
     "output_type": "stream",
     "text": [
      "\n"
     ]
    },
    {
     "data": {
      "text/html": [
       "<div>\n",
       "<style scoped>\n",
       "    .dataframe tbody tr th:only-of-type {\n",
       "        vertical-align: middle;\n",
       "    }\n",
       "\n",
       "    .dataframe tbody tr th {\n",
       "        vertical-align: top;\n",
       "    }\n",
       "\n",
       "    .dataframe thead th {\n",
       "        text-align: right;\n",
       "    }\n",
       "</style>\n",
       "<table border=\"1\" class=\"dataframe\">\n",
       "  <thead>\n",
       "    <tr style=\"text-align: right;\">\n",
       "      <th></th>\n",
       "      <th>releaseTimestamp</th>\n",
       "      <th>date</th>\n",
       "      <th>areaName</th>\n",
       "      <th>areaCode</th>\n",
       "      <th>newCasesBySpecimenDate</th>\n",
       "      <th>newDeaths28DaysByDeathDate</th>\n",
       "    </tr>\n",
       "  </thead>\n",
       "  <tbody>\n",
       "    <tr>\n",
       "      <th>0</th>\n",
       "      <td>2020-09-09</td>\n",
       "      <td>2020-09-09</td>\n",
       "      <td>England</td>\n",
       "      <td>E92000001</td>\n",
       "      <td>NaN</td>\n",
       "      <td>NaN</td>\n",
       "    </tr>\n",
       "    <tr>\n",
       "      <th>1</th>\n",
       "      <td>2020-09-09</td>\n",
       "      <td>2020-09-08</td>\n",
       "      <td>England</td>\n",
       "      <td>E92000001</td>\n",
       "      <td>15.0</td>\n",
       "      <td>3.0</td>\n",
       "    </tr>\n",
       "    <tr>\n",
       "      <th>2</th>\n",
       "      <td>2020-09-09</td>\n",
       "      <td>2020-09-07</td>\n",
       "      <td>England</td>\n",
       "      <td>E92000001</td>\n",
       "      <td>729.0</td>\n",
       "      <td>11.0</td>\n",
       "    </tr>\n",
       "    <tr>\n",
       "      <th>3</th>\n",
       "      <td>2020-09-09</td>\n",
       "      <td>2020-09-06</td>\n",
       "      <td>England</td>\n",
       "      <td>E92000001</td>\n",
       "      <td>1510.0</td>\n",
       "      <td>9.0</td>\n",
       "    </tr>\n",
       "    <tr>\n",
       "      <th>4</th>\n",
       "      <td>2020-09-09</td>\n",
       "      <td>2020-09-05</td>\n",
       "      <td>England</td>\n",
       "      <td>E92000001</td>\n",
       "      <td>1983.0</td>\n",
       "      <td>9.0</td>\n",
       "    </tr>\n",
       "    <tr>\n",
       "      <th>...</th>\n",
       "      <td>...</td>\n",
       "      <td>...</td>\n",
       "      <td>...</td>\n",
       "      <td>...</td>\n",
       "      <td>...</td>\n",
       "      <td>...</td>\n",
       "    </tr>\n",
       "    <tr>\n",
       "      <th>999</th>\n",
       "      <td>2020-09-09</td>\n",
       "      <td>2020-01-07</td>\n",
       "      <td>Wales</td>\n",
       "      <td>W92000004</td>\n",
       "      <td>NaN</td>\n",
       "      <td>NaN</td>\n",
       "    </tr>\n",
       "    <tr>\n",
       "      <th>1000</th>\n",
       "      <td>2020-09-09</td>\n",
       "      <td>2020-01-06</td>\n",
       "      <td>Wales</td>\n",
       "      <td>W92000004</td>\n",
       "      <td>NaN</td>\n",
       "      <td>NaN</td>\n",
       "    </tr>\n",
       "    <tr>\n",
       "      <th>1001</th>\n",
       "      <td>2020-09-09</td>\n",
       "      <td>2020-01-05</td>\n",
       "      <td>Wales</td>\n",
       "      <td>W92000004</td>\n",
       "      <td>NaN</td>\n",
       "      <td>NaN</td>\n",
       "    </tr>\n",
       "    <tr>\n",
       "      <th>1002</th>\n",
       "      <td>2020-09-09</td>\n",
       "      <td>2020-01-04</td>\n",
       "      <td>Wales</td>\n",
       "      <td>W92000004</td>\n",
       "      <td>NaN</td>\n",
       "      <td>NaN</td>\n",
       "    </tr>\n",
       "    <tr>\n",
       "      <th>1003</th>\n",
       "      <td>2020-09-09</td>\n",
       "      <td>2020-01-03</td>\n",
       "      <td>Wales</td>\n",
       "      <td>W92000004</td>\n",
       "      <td>NaN</td>\n",
       "      <td>NaN</td>\n",
       "    </tr>\n",
       "  </tbody>\n",
       "</table>\n",
       "<p>1004 rows × 6 columns</p>\n",
       "</div>"
      ],
      "text/plain": [
       "     releaseTimestamp        date areaName   areaCode  newCasesBySpecimenDate  \\\n",
       "0          2020-09-09  2020-09-09  England  E92000001                     NaN   \n",
       "1          2020-09-09  2020-09-08  England  E92000001                    15.0   \n",
       "2          2020-09-09  2020-09-07  England  E92000001                   729.0   \n",
       "3          2020-09-09  2020-09-06  England  E92000001                  1510.0   \n",
       "4          2020-09-09  2020-09-05  England  E92000001                  1983.0   \n",
       "...               ...         ...      ...        ...                     ...   \n",
       "999        2020-09-09  2020-01-07    Wales  W92000004                     NaN   \n",
       "1000       2020-09-09  2020-01-06    Wales  W92000004                     NaN   \n",
       "1001       2020-09-09  2020-01-05    Wales  W92000004                     NaN   \n",
       "1002       2020-09-09  2020-01-04    Wales  W92000004                     NaN   \n",
       "1003       2020-09-09  2020-01-03    Wales  W92000004                     NaN   \n",
       "\n",
       "      newDeaths28DaysByDeathDate  \n",
       "0                            NaN  \n",
       "1                            3.0  \n",
       "2                           11.0  \n",
       "3                            9.0  \n",
       "4                            9.0  \n",
       "...                          ...  \n",
       "999                          NaN  \n",
       "1000                         NaN  \n",
       "1001                         NaN  \n",
       "1002                         NaN  \n",
       "1003                         NaN  \n",
       "\n",
       "[1004 rows x 6 columns]"
      ]
     },
     "execution_count": 56,
     "metadata": {},
     "output_type": "execute_result"
    }
   ],
   "source": [
    "nation_data = query(\n",
    "    filters={area_type: nation}, \n",
    "    structure=[release_timestamp, date, area_name, area_code, new_cases_by_specimen_date, new_deaths_by_death_date]\n",
    ")\n",
    "nation_data"
   ]
  },
  {
   "cell_type": "code",
   "execution_count": 57,
   "metadata": {},
   "outputs": [
    {
     "data": {
      "text/plain": [
       "'~/Downloads/phe_nation_2020-09-09_2020-09-09-18-54.pickle'"
      ]
     },
     "execution_count": 57,
     "metadata": {},
     "output_type": "execute_result"
    }
   ],
   "source": [
    "pickle('nation', nation_data)"
   ]
  },
  {
   "cell_type": "code",
   "execution_count": 58,
   "metadata": {},
   "outputs": [
    {
     "data": {
      "text/plain": [
       "<matplotlib.axes._subplots.AxesSubplot at 0x7fefd2397460>"
      ]
     },
     "execution_count": 58,
     "metadata": {},
     "output_type": "execute_result"
    },
    {
     "data": {
      "image/png": "[encoded data removed]",
      "text/plain": [
       "<Figure size 1008x288 with 1 Axes>"
      ]
     },
     "metadata": {
      "needs_background": "light"
     },
     "output_type": "display_data"
    }
   ],
   "source": [
    "nation_data.groupby(date).sum()[new_cases_by_specimen_date].loc['2020-03-01':].plot(kind='bar', stacked=True, width=1, rot=-90, figsize=(14, 4))"
   ]
  },
  {
   "cell_type": "code",
   "execution_count": 59,
   "metadata": {},
   "outputs": [
    {
     "data": {
      "application/vnd.jupyter.widget-view+json": {
       "model_id": "cfb0c2f939d141a9beb494bf2d0b40bf",
       "version_major": 2,
       "version_minor": 0
      },
      "text/plain": [
       "HBox(children=(FloatProgress(value=0.0, max=96.0), HTML(value='')))"
      ]
     },
     "metadata": {},
     "output_type": "display_data"
    },
    {
     "name": "stdout",
     "output_type": "stream",
     "text": [
      "\n"
     ]
    },
    {
     "data": {
      "text/html": [
       "<div>\n",
       "<style scoped>\n",
       "    .dataframe tbody tr th:only-of-type {\n",
       "        vertical-align: middle;\n",
       "    }\n",
       "\n",
       "    .dataframe tbody tr th {\n",
       "        vertical-align: top;\n",
       "    }\n",
       "\n",
       "    .dataframe thead th {\n",
       "        text-align: right;\n",
       "    }\n",
       "</style>\n",
       "<table border=\"1\" class=\"dataframe\">\n",
       "  <thead>\n",
       "    <tr style=\"text-align: right;\">\n",
       "      <th></th>\n",
       "      <th>releaseTimestamp</th>\n",
       "      <th>date</th>\n",
       "      <th>areaName</th>\n",
       "      <th>areaCode</th>\n",
       "      <th>newCasesBySpecimenDate</th>\n",
       "      <th>newDeaths28DaysByDeathDate</th>\n",
       "    </tr>\n",
       "  </thead>\n",
       "  <tbody>\n",
       "    <tr>\n",
       "      <th>0</th>\n",
       "      <td>2020-09-09</td>\n",
       "      <td>2020-09-09</td>\n",
       "      <td>Aberdeen City</td>\n",
       "      <td>S12000033</td>\n",
       "      <td>NaN</td>\n",
       "      <td>None</td>\n",
       "    </tr>\n",
       "    <tr>\n",
       "      <th>1</th>\n",
       "      <td>2020-09-09</td>\n",
       "      <td>2020-09-08</td>\n",
       "      <td>Aberdeen City</td>\n",
       "      <td>S12000033</td>\n",
       "      <td>NaN</td>\n",
       "      <td>None</td>\n",
       "    </tr>\n",
       "    <tr>\n",
       "      <th>2</th>\n",
       "      <td>2020-09-09</td>\n",
       "      <td>2020-09-07</td>\n",
       "      <td>Aberdeen City</td>\n",
       "      <td>S12000033</td>\n",
       "      <td>NaN</td>\n",
       "      <td>None</td>\n",
       "    </tr>\n",
       "    <tr>\n",
       "      <th>3</th>\n",
       "      <td>2020-09-09</td>\n",
       "      <td>2020-09-06</td>\n",
       "      <td>Aberdeen City</td>\n",
       "      <td>S12000033</td>\n",
       "      <td>NaN</td>\n",
       "      <td>None</td>\n",
       "    </tr>\n",
       "    <tr>\n",
       "      <th>4</th>\n",
       "      <td>2020-09-09</td>\n",
       "      <td>2020-09-05</td>\n",
       "      <td>Aberdeen City</td>\n",
       "      <td>S12000033</td>\n",
       "      <td>NaN</td>\n",
       "      <td>None</td>\n",
       "    </tr>\n",
       "    <tr>\n",
       "      <th>...</th>\n",
       "      <td>...</td>\n",
       "      <td>...</td>\n",
       "      <td>...</td>\n",
       "      <td>...</td>\n",
       "      <td>...</td>\n",
       "      <td>...</td>\n",
       "    </tr>\n",
       "    <tr>\n",
       "      <th>95877</th>\n",
       "      <td>2020-09-09</td>\n",
       "      <td>2020-01-07</td>\n",
       "      <td>York</td>\n",
       "      <td>E06000014</td>\n",
       "      <td>NaN</td>\n",
       "      <td>None</td>\n",
       "    </tr>\n",
       "    <tr>\n",
       "      <th>95878</th>\n",
       "      <td>2020-09-09</td>\n",
       "      <td>2020-01-06</td>\n",
       "      <td>York</td>\n",
       "      <td>E06000014</td>\n",
       "      <td>NaN</td>\n",
       "      <td>None</td>\n",
       "    </tr>\n",
       "    <tr>\n",
       "      <th>95879</th>\n",
       "      <td>2020-09-09</td>\n",
       "      <td>2020-01-05</td>\n",
       "      <td>York</td>\n",
       "      <td>E06000014</td>\n",
       "      <td>NaN</td>\n",
       "      <td>None</td>\n",
       "    </tr>\n",
       "    <tr>\n",
       "      <th>95880</th>\n",
       "      <td>2020-09-09</td>\n",
       "      <td>2020-01-04</td>\n",
       "      <td>York</td>\n",
       "      <td>E06000014</td>\n",
       "      <td>NaN</td>\n",
       "      <td>None</td>\n",
       "    </tr>\n",
       "    <tr>\n",
       "      <th>95881</th>\n",
       "      <td>2020-09-09</td>\n",
       "      <td>2020-01-03</td>\n",
       "      <td>York</td>\n",
       "      <td>E06000014</td>\n",
       "      <td>NaN</td>\n",
       "      <td>None</td>\n",
       "    </tr>\n",
       "  </tbody>\n",
       "</table>\n",
       "<p>95882 rows × 6 columns</p>\n",
       "</div>"
      ],
      "text/plain": [
       "      releaseTimestamp        date       areaName   areaCode  \\\n",
       "0           2020-09-09  2020-09-09  Aberdeen City  S12000033   \n",
       "1           2020-09-09  2020-09-08  Aberdeen City  S12000033   \n",
       "2           2020-09-09  2020-09-07  Aberdeen City  S12000033   \n",
       "3           2020-09-09  2020-09-06  Aberdeen City  S12000033   \n",
       "4           2020-09-09  2020-09-05  Aberdeen City  S12000033   \n",
       "...                ...         ...            ...        ...   \n",
       "95877       2020-09-09  2020-01-07           York  E06000014   \n",
       "95878       2020-09-09  2020-01-06           York  E06000014   \n",
       "95879       2020-09-09  2020-01-05           York  E06000014   \n",
       "95880       2020-09-09  2020-01-04           York  E06000014   \n",
       "95881       2020-09-09  2020-01-03           York  E06000014   \n",
       "\n",
       "       newCasesBySpecimenDate newDeaths28DaysByDeathDate  \n",
       "0                         NaN                       None  \n",
       "1                         NaN                       None  \n",
       "2                         NaN                       None  \n",
       "3                         NaN                       None  \n",
       "4                         NaN                       None  \n",
       "...                       ...                        ...  \n",
       "95877                     NaN                       None  \n",
       "95878                     NaN                       None  \n",
       "95879                     NaN                       None  \n",
       "95880                     NaN                       None  \n",
       "95881                     NaN                       None  \n",
       "\n",
       "[95882 rows x 6 columns]"
      ]
     },
     "execution_count": 59,
     "metadata": {},
     "output_type": "execute_result"
    }
   ],
   "source": [
    "area_data = query(\n",
    "    filters={area_type: ltla}, \n",
    "    structure=[release_timestamp, date, area_name, area_code, new_cases_by_specimen_date, new_deaths_by_death_date],\n",
    "    max_workers=10\n",
    ")\n",
    "area_data"
   ]
  },
  {
   "cell_type": "code",
   "execution_count": 60,
   "metadata": {
    "pycharm": {
     "name": "#%%\n"
    }
   },
   "outputs": [
    {
     "data": {
      "text/plain": [
       "'~/Downloads/phe_area_2020-09-09_2020-09-09-18-55.pickle'"
      ]
     },
     "execution_count": 60,
     "metadata": {},
     "output_type": "execute_result"
    }
   ],
   "source": [
    "pickle('area', area_data)"
   ]
  }
 ],
 "metadata": {
  "kernelspec": {
   "display_name": "Python 3",
   "language": "python",
   "name": "python3"
  },
  "language_info": {
   "codemirror_mode": {
    "name": "ipython",
    "version": 3
   },
   "file_extension": ".py",
   "mimetype": "text/x-python",
   "name": "python",
   "nbconvert_exporter": "python",
   "pygments_lexer": "ipython3",
   "version": "3.8.2"
  }
 },
 "nbformat": 4,
 "nbformat_minor": 4
}