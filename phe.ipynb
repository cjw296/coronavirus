{
 "cells": [
  {
   "cell_type": "code",
   "execution_count": 1,
   "metadata": {},
   "outputs": [],
   "source": [
    "from datetime import datetime, timedelta, date\n",
    "import matplotlib.pyplot as plt\n",
    "from matplotlib.ticker import FuncFormatter\n",
    "import pandas as pd\n",
    "from constants import *\n",
    "from phe import pickle, query, download\n",
    "import requests"
   ]
  },
  {
   "cell_type": "code",
   "execution_count": 2,
   "metadata": {},
   "outputs": [],
   "source": [
    "specimen_date = 'date'\n",
    "ltla = 'ltla'\n",
    "nation = 'nation'"
   ]
  },
  {
   "cell_type": "code",
   "execution_count": 3,
   "metadata": {},
   "outputs": [
    {
     "data": {
      "text/html": [
       "<div>\n",
       "<style scoped>\n",
       "    .dataframe tbody tr th:only-of-type {\n",
       "        vertical-align: middle;\n",
       "    }\n",
       "\n",
       "    .dataframe tbody tr th {\n",
       "        vertical-align: top;\n",
       "    }\n",
       "\n",
       "    .dataframe thead th {\n",
       "        text-align: right;\n",
       "    }\n",
       "</style>\n",
       "<table border=\"1\" class=\"dataframe\">\n",
       "  <thead>\n",
       "    <tr style=\"text-align: right;\">\n",
       "      <th></th>\n",
       "      <th>releaseTimestamp</th>\n",
       "      <th>date</th>\n",
       "      <th>areaName</th>\n",
       "      <th>areaCode</th>\n",
       "      <th>newCasesBySpecimenDate</th>\n",
       "      <th>newAdmissions</th>\n",
       "      <th>newDeaths28DaysByDeathDate</th>\n",
       "      <th>newVirusTests</th>\n",
       "    </tr>\n",
       "  </thead>\n",
       "  <tbody>\n",
       "    <tr>\n",
       "      <th>0</th>\n",
       "      <td>2020-12-21</td>\n",
       "      <td>2020-12-20</td>\n",
       "      <td>United Kingdom</td>\n",
       "      <td>K02000001</td>\n",
       "      <td>1385</td>\n",
       "      <td>NaN</td>\n",
       "      <td>62.0</td>\n",
       "      <td>433470.0</td>\n",
       "    </tr>\n",
       "    <tr>\n",
       "      <th>1</th>\n",
       "      <td>2020-12-21</td>\n",
       "      <td>2020-12-19</td>\n",
       "      <td>United Kingdom</td>\n",
       "      <td>K02000001</td>\n",
       "      <td>9478</td>\n",
       "      <td>NaN</td>\n",
       "      <td>164.0</td>\n",
       "      <td>440584.0</td>\n",
       "    </tr>\n",
       "    <tr>\n",
       "      <th>2</th>\n",
       "      <td>2020-12-21</td>\n",
       "      <td>2020-12-18</td>\n",
       "      <td>United Kingdom</td>\n",
       "      <td>K02000001</td>\n",
       "      <td>23970</td>\n",
       "      <td>NaN</td>\n",
       "      <td>263.0</td>\n",
       "      <td>390130.0</td>\n",
       "    </tr>\n",
       "    <tr>\n",
       "      <th>3</th>\n",
       "      <td>2020-12-21</td>\n",
       "      <td>2020-12-17</td>\n",
       "      <td>United Kingdom</td>\n",
       "      <td>K02000001</td>\n",
       "      <td>30909</td>\n",
       "      <td>NaN</td>\n",
       "      <td>385.0</td>\n",
       "      <td>375185.0</td>\n",
       "    </tr>\n",
       "    <tr>\n",
       "      <th>4</th>\n",
       "      <td>2020-12-21</td>\n",
       "      <td>2020-12-16</td>\n",
       "      <td>United Kingdom</td>\n",
       "      <td>K02000001</td>\n",
       "      <td>34151</td>\n",
       "      <td>2034.0</td>\n",
       "      <td>349.0</td>\n",
       "      <td>364388.0</td>\n",
       "    </tr>\n",
       "    <tr>\n",
       "      <th>...</th>\n",
       "      <td>...</td>\n",
       "      <td>...</td>\n",
       "      <td>...</td>\n",
       "      <td>...</td>\n",
       "      <td>...</td>\n",
       "      <td>...</td>\n",
       "      <td>...</td>\n",
       "      <td>...</td>\n",
       "    </tr>\n",
       "    <tr>\n",
       "      <th>340</th>\n",
       "      <td>2020-12-21</td>\n",
       "      <td>2020-01-15</td>\n",
       "      <td>United Kingdom</td>\n",
       "      <td>K02000001</td>\n",
       "      <td>0</td>\n",
       "      <td>NaN</td>\n",
       "      <td>NaN</td>\n",
       "      <td>NaN</td>\n",
       "    </tr>\n",
       "    <tr>\n",
       "      <th>341</th>\n",
       "      <td>2020-12-21</td>\n",
       "      <td>2020-01-14</td>\n",
       "      <td>United Kingdom</td>\n",
       "      <td>K02000001</td>\n",
       "      <td>0</td>\n",
       "      <td>NaN</td>\n",
       "      <td>NaN</td>\n",
       "      <td>NaN</td>\n",
       "    </tr>\n",
       "    <tr>\n",
       "      <th>342</th>\n",
       "      <td>2020-12-21</td>\n",
       "      <td>2020-01-13</td>\n",
       "      <td>United Kingdom</td>\n",
       "      <td>K02000001</td>\n",
       "      <td>0</td>\n",
       "      <td>NaN</td>\n",
       "      <td>NaN</td>\n",
       "      <td>NaN</td>\n",
       "    </tr>\n",
       "    <tr>\n",
       "      <th>343</th>\n",
       "      <td>2020-12-21</td>\n",
       "      <td>2020-01-12</td>\n",
       "      <td>United Kingdom</td>\n",
       "      <td>K02000001</td>\n",
       "      <td>0</td>\n",
       "      <td>NaN</td>\n",
       "      <td>NaN</td>\n",
       "      <td>NaN</td>\n",
       "    </tr>\n",
       "    <tr>\n",
       "      <th>344</th>\n",
       "      <td>2020-12-21</td>\n",
       "      <td>2020-01-11</td>\n",
       "      <td>United Kingdom</td>\n",
       "      <td>K02000001</td>\n",
       "      <td>1</td>\n",
       "      <td>NaN</td>\n",
       "      <td>NaN</td>\n",
       "      <td>NaN</td>\n",
       "    </tr>\n",
       "  </tbody>\n",
       "</table>\n",
       "<p>345 rows × 8 columns</p>\n",
       "</div>"
      ],
      "text/plain": [
       "    releaseTimestamp        date        areaName   areaCode  \\\n",
       "0         2020-12-21  2020-12-20  United Kingdom  K02000001   \n",
       "1         2020-12-21  2020-12-19  United Kingdom  K02000001   \n",
       "2         2020-12-21  2020-12-18  United Kingdom  K02000001   \n",
       "3         2020-12-21  2020-12-17  United Kingdom  K02000001   \n",
       "4         2020-12-21  2020-12-16  United Kingdom  K02000001   \n",
       "..               ...         ...             ...        ...   \n",
       "340       2020-12-21  2020-01-15  United Kingdom  K02000001   \n",
       "341       2020-12-21  2020-01-14  United Kingdom  K02000001   \n",
       "342       2020-12-21  2020-01-13  United Kingdom  K02000001   \n",
       "343       2020-12-21  2020-01-12  United Kingdom  K02000001   \n",
       "344       2020-12-21  2020-01-11  United Kingdom  K02000001   \n",
       "\n",
       "     newCasesBySpecimenDate  newAdmissions  newDeaths28DaysByDeathDate  \\\n",
       "0                      1385            NaN                        62.0   \n",
       "1                      9478            NaN                       164.0   \n",
       "2                     23970            NaN                       263.0   \n",
       "3                     30909            NaN                       385.0   \n",
       "4                     34151         2034.0                       349.0   \n",
       "..                      ...            ...                         ...   \n",
       "340                       0            NaN                         NaN   \n",
       "341                       0            NaN                         NaN   \n",
       "342                       0            NaN                         NaN   \n",
       "343                       0            NaN                         NaN   \n",
       "344                       1            NaN                         NaN   \n",
       "\n",
       "     newVirusTests  \n",
       "0         433470.0  \n",
       "1         440584.0  \n",
       "2         390130.0  \n",
       "3         375185.0  \n",
       "4         364388.0  \n",
       "..             ...  \n",
       "340            NaN  \n",
       "341            NaN  \n",
       "342            NaN  \n",
       "343            NaN  \n",
       "344            NaN  \n",
       "\n",
       "[345 rows x 8 columns]"
      ]
     },
     "execution_count": 3,
     "metadata": {},
     "output_type": "execute_result"
    }
   ],
   "source": [
    "overview_data = query(\n",
    "    filters={area_type: overview},\n",
    "    structure=[release_timestamp, specimen_date, area_name, area_code,\n",
    "               new_cases_by_specimen_date, new_admissions, new_deaths_by_death_date,\n",
    "               new_virus_tests]\n",
    ")\n",
    "overview_data"
   ]
  },
  {
   "cell_type": "code",
   "execution_count": 4,
   "metadata": {},
   "outputs": [
    {
     "data": {
      "text/plain": [
       "PosixPath('/Users/chris/Downloads/phe_overview_2020-12-21_2020-12-21-20-44.pickle')"
      ]
     },
     "execution_count": 4,
     "metadata": {},
     "output_type": "execute_result"
    }
   ],
   "source": [
    "pickle('overview', overview_data)"
   ]
  },
  {
   "cell_type": "code",
   "execution_count": 5,
   "metadata": {},
   "outputs": [
    {
     "data": {
      "image/png": "[encoded data removed]",
      "text/plain": [
       "<Figure size 1008x288 with 2 Axes>"
      ]
     },
     "metadata": {},
     "output_type": "display_data"
    }
   ],
   "source": [
    "days = 14\n",
    "overview_data.index = pd.to_datetime(overview_data[specimen_date])\n",
    "overview_data.sort_index(inplace=True)\n",
    "smoothed_overview_data = overview_data.rolling(window=days).mean()\n",
    "trimmed = smoothed_overview_data.loc['2020-05-01':datetime.now()-timedelta(days=5)]\n",
    "cases_per_test = (trimmed[new_cases_by_specimen_date] / trimmed[new_virus_tests])\n",
    "ax = cases_per_test.plot(\n",
    "    figsize=(14,4), color='r', title=f'{days} day moving average of PHE data'\n",
    ")\n",
    "ax.xaxis.label.set_visible(False)\n",
    "ax.set_ylabel('Cases per Test')\n",
    "ax.tick_params(axis='y', labelcolor='r')\n",
    "ax2 = ax.twinx()\n",
    "trimmed[new_virus_tests].plot(ax=ax2, color='darkblue')\n",
    "ax2.set_ylabel('New Virus Tests')\n",
    "ax2.yaxis.set_major_formatter(FuncFormatter(lambda y, pos: f\"{y/1_000_000:.1f}m\"))\n",
    "ax2.tick_params(axis='y', labelcolor='darkblue')\n",
    "plt.gcf().set_facecolor('white')"
   ]
  },
  {
   "cell_type": "code",
   "execution_count": 6,
   "metadata": {},
   "outputs": [
    {
     "data": {
      "text/plain": [
       "PosixPath('/Users/chris/Downloads/england_2020-12-21.csv')"
      ]
     },
     "execution_count": 6,
     "metadata": {},
     "output_type": "execute_result"
    }
   ],
   "source": [
    "download('england', 'nation', new_admissions_sum, new_cases_sum, new_deaths_sum, unique_people_tested_sum, area_name='England')"
   ]
  },
  {
   "cell_type": "code",
   "execution_count": 7,
   "metadata": {},
   "outputs": [
    {
     "data": {
      "text/plain": [
       "PosixPath('/Users/chris/Downloads/msoa_2020-12-21.csv')"
      ]
     },
     "execution_count": 7,
     "metadata": {},
     "output_type": "execute_result"
    }
   ],
   "source": [
    "download('msoa', 'msoa', new_cases_sum, new_cases_rate, new_cases_change)"
   ]
  },
  {
   "cell_type": "code",
   "execution_count": 8,
   "metadata": {},
   "outputs": [
    {
     "data": {
      "application/vnd.jupyter.widget-view+json": {
       "model_id": "a0701504deb845da94ab14651e818760",
       "version_major": 2,
       "version_minor": 0
      },
      "text/plain": [
       "HBox(children=(FloatProgress(value=0.0, max=45.0), HTML(value='')))"
      ]
     },
     "metadata": {},
     "output_type": "display_data"
    },
    {
     "name": "stdout",
     "output_type": "stream",
     "text": [
      "\n"
     ]
    },
    {
     "data": {
      "text/html": [
       "<div>\n",
       "<style scoped>\n",
       "    .dataframe tbody tr th:only-of-type {\n",
       "        vertical-align: middle;\n",
       "    }\n",
       "\n",
       "    .dataframe tbody tr th {\n",
       "        vertical-align: top;\n",
       "    }\n",
       "\n",
       "    .dataframe thead th {\n",
       "        text-align: right;\n",
       "    }\n",
       "</style>\n",
       "<table border=\"1\" class=\"dataframe\">\n",
       "  <thead>\n",
       "    <tr style=\"text-align: right;\">\n",
       "      <th></th>\n",
       "      <th>releaseTimestamp</th>\n",
       "      <th>date</th>\n",
       "      <th>areaName</th>\n",
       "      <th>areaCode</th>\n",
       "      <th>newCasesBySpecimenDate</th>\n",
       "      <th>newDeaths28DaysByDeathDate</th>\n",
       "    </tr>\n",
       "  </thead>\n",
       "  <tbody>\n",
       "    <tr>\n",
       "      <th>0</th>\n",
       "      <td>2020-12-21</td>\n",
       "      <td>2020-12-20</td>\n",
       "      <td>Aberdeen City</td>\n",
       "      <td>S12000033</td>\n",
       "      <td>6.0</td>\n",
       "      <td>0.0</td>\n",
       "    </tr>\n",
       "    <tr>\n",
       "      <th>1</th>\n",
       "      <td>2020-12-21</td>\n",
       "      <td>2020-12-19</td>\n",
       "      <td>Aberdeen City</td>\n",
       "      <td>S12000033</td>\n",
       "      <td>20.0</td>\n",
       "      <td>0.0</td>\n",
       "    </tr>\n",
       "    <tr>\n",
       "      <th>2</th>\n",
       "      <td>2020-12-21</td>\n",
       "      <td>2020-12-18</td>\n",
       "      <td>Aberdeen City</td>\n",
       "      <td>S12000033</td>\n",
       "      <td>55.0</td>\n",
       "      <td>0.0</td>\n",
       "    </tr>\n",
       "    <tr>\n",
       "      <th>3</th>\n",
       "      <td>2020-12-21</td>\n",
       "      <td>2020-12-17</td>\n",
       "      <td>Aberdeen City</td>\n",
       "      <td>S12000033</td>\n",
       "      <td>68.0</td>\n",
       "      <td>0.0</td>\n",
       "    </tr>\n",
       "    <tr>\n",
       "      <th>4</th>\n",
       "      <td>2020-12-21</td>\n",
       "      <td>2020-12-16</td>\n",
       "      <td>Aberdeen City</td>\n",
       "      <td>S12000033</td>\n",
       "      <td>46.0</td>\n",
       "      <td>4.0</td>\n",
       "    </tr>\n",
       "    <tr>\n",
       "      <th>...</th>\n",
       "      <td>...</td>\n",
       "      <td>...</td>\n",
       "      <td>...</td>\n",
       "      <td>...</td>\n",
       "      <td>...</td>\n",
       "      <td>...</td>\n",
       "    </tr>\n",
       "    <tr>\n",
       "      <th>110545</th>\n",
       "      <td>2020-12-21</td>\n",
       "      <td>2020-10-14</td>\n",
       "      <td>Staffordshire Moorlands</td>\n",
       "      <td>E07000198</td>\n",
       "      <td>21.0</td>\n",
       "      <td>0.0</td>\n",
       "    </tr>\n",
       "    <tr>\n",
       "      <th>110546</th>\n",
       "      <td>2020-12-21</td>\n",
       "      <td>2020-10-13</td>\n",
       "      <td>Staffordshire Moorlands</td>\n",
       "      <td>E07000198</td>\n",
       "      <td>24.0</td>\n",
       "      <td>0.0</td>\n",
       "    </tr>\n",
       "    <tr>\n",
       "      <th>110547</th>\n",
       "      <td>2020-12-21</td>\n",
       "      <td>2020-10-12</td>\n",
       "      <td>Staffordshire Moorlands</td>\n",
       "      <td>E07000198</td>\n",
       "      <td>19.0</td>\n",
       "      <td>0.0</td>\n",
       "    </tr>\n",
       "    <tr>\n",
       "      <th>110548</th>\n",
       "      <td>2020-12-21</td>\n",
       "      <td>2020-10-11</td>\n",
       "      <td>Staffordshire Moorlands</td>\n",
       "      <td>E07000198</td>\n",
       "      <td>12.0</td>\n",
       "      <td>0.0</td>\n",
       "    </tr>\n",
       "    <tr>\n",
       "      <th>110549</th>\n",
       "      <td>2020-12-21</td>\n",
       "      <td>2020-10-10</td>\n",
       "      <td>Staffordshire Moorlands</td>\n",
       "      <td>E07000198</td>\n",
       "      <td>14.0</td>\n",
       "      <td>0.0</td>\n",
       "    </tr>\n",
       "  </tbody>\n",
       "</table>\n",
       "<p>110550 rows × 6 columns</p>\n",
       "</div>"
      ],
      "text/plain": [
       "       releaseTimestamp        date                 areaName   areaCode  \\\n",
       "0            2020-12-21  2020-12-20            Aberdeen City  S12000033   \n",
       "1            2020-12-21  2020-12-19            Aberdeen City  S12000033   \n",
       "2            2020-12-21  2020-12-18            Aberdeen City  S12000033   \n",
       "3            2020-12-21  2020-12-17            Aberdeen City  S12000033   \n",
       "4            2020-12-21  2020-12-16            Aberdeen City  S12000033   \n",
       "...                 ...         ...                      ...        ...   \n",
       "110545       2020-12-21  2020-10-14  Staffordshire Moorlands  E07000198   \n",
       "110546       2020-12-21  2020-10-13  Staffordshire Moorlands  E07000198   \n",
       "110547       2020-12-21  2020-10-12  Staffordshire Moorlands  E07000198   \n",
       "110548       2020-12-21  2020-10-11  Staffordshire Moorlands  E07000198   \n",
       "110549       2020-12-21  2020-10-10  Staffordshire Moorlands  E07000198   \n",
       "\n",
       "        newCasesBySpecimenDate  newDeaths28DaysByDeathDate  \n",
       "0                          6.0                         0.0  \n",
       "1                         20.0                         0.0  \n",
       "2                         55.0                         0.0  \n",
       "3                         68.0                         0.0  \n",
       "4                         46.0                         4.0  \n",
       "...                        ...                         ...  \n",
       "110545                    21.0                         0.0  \n",
       "110546                    24.0                         0.0  \n",
       "110547                    19.0                         0.0  \n",
       "110548                    12.0                         0.0  \n",
       "110549                    14.0                         0.0  \n",
       "\n",
       "[110550 rows x 6 columns]"
      ]
     },
     "execution_count": 8,
     "metadata": {},
     "output_type": "execute_result"
    }
   ],
   "source": [
    "area_data = query(\n",
    "    filters={area_type: ltla}, \n",
    "    structure=[release_timestamp, specimen_date, area_name, area_code, new_cases_by_specimen_date, new_deaths_by_death_date],\n",
    "    max_workers=10\n",
    ")\n",
    "area_data"
   ]
  },
  {
   "cell_type": "code",
   "execution_count": 9,
   "metadata": {
    "pycharm": {
     "name": "#%%\n"
    }
   },
   "outputs": [
    {
     "data": {
      "text/plain": [
       "PosixPath('/Users/chris/Downloads/phe_area_2020-12-21_2020-12-21-20-47.pickle')"
      ]
     },
     "execution_count": 9,
     "metadata": {},
     "output_type": "execute_result"
    }
   ],
   "source": [
    "pickle('area', area_data)"
   ]
  }
 ],
 "metadata": {
  "kernelspec": {
   "display_name": "Python 3",
   "language": "python",
   "name": "python3"
  },
  "language_info": {
   "codemirror_mode": {
    "name": "ipython",
    "version": 3
   },
   "file_extension": ".py",
   "mimetype": "text/x-python",
   "name": "python",
   "nbconvert_exporter": "python",
   "pygments_lexer": "ipython3",
   "version": "3.8.2"
  }
 },
 "nbformat": 4,
 "nbformat_minor": 4
}
