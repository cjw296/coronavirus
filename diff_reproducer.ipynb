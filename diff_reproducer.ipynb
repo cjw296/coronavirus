{
 "cells": [
  {
   "cell_type": "markdown",
   "id": "02e2c016",
   "metadata": {},
   "source": [
    "### Helpers"
   ]
  },
  {
   "cell_type": "code",
   "execution_count": 1,
   "id": "937b75f2",
   "metadata": {},
   "outputs": [],
   "source": [
    "import pandas as pd\n",
    "from functools import partial"
   ]
  },
  {
   "cell_type": "code",
   "execution_count": 2,
   "id": "275489ab",
   "metadata": {},
   "outputs": [],
   "source": [
    "def get_data(area_type, release, earliest=None, latest=None, area=None):\n",
    "    data = pd.read_csv(\n",
    "        f'https://api.coronavirus.data.gov.uk/v2/data?areaType={area_type}'\n",
    "        f'&metric=newCasesBySpecimenDate&format=csv&release={release}',\n",
    "    )\n",
    "    if earliest:\n",
    "        data = data[data['date'] >= earliest]\n",
    "    if latest:\n",
    "        data = data[data['date'] <= latest]\n",
    "    if area:\n",
    "        data = data[data['areaName'] == area]\n",
    "    return data.groupby('date').sum().sum()"
   ]
  },
  {
   "cell_type": "code",
   "execution_count": 3,
   "id": "57bbf50b",
   "metadata": {},
   "outputs": [],
   "source": [
    "def diff(area_type, new_release, old_release, earliest=None, latest=None, area=None):\n",
    "    new_data = get_data(area_type, new_release, earliest, latest=latest, area=area)\n",
    "    old_data = get_data(area_type, old_release, earliest, latest=latest, area=area)\n",
    "    return new_data-old_data"
   ]
  },
  {
   "cell_type": "code",
   "execution_count": 4,
   "id": "d7e49561",
   "metadata": {},
   "outputs": [],
   "source": [
    "diff_ = partial(diff, new_release='2022-01-31', old_release='2022-01-30')"
   ]
  },
  {
   "cell_type": "code",
   "execution_count": 5,
   "id": "ec856194",
   "metadata": {},
   "outputs": [],
   "source": [
    "def diff__(earliest):\n",
    "    return (diff_('nation', earliest=earliest) - diff_('region', earliest=earliest)).squeeze()"
   ]
  },
  {
   "cell_type": "markdown",
   "id": "d66d4e25",
   "metadata": {},
   "source": [
    "### Narrative\n",
    "The difference comes from where the series is truncated. For the `nation` series, the data was truncated at 25th July '2021: "
   ]
  },
  {
   "cell_type": "code",
   "execution_count": 6,
   "id": "d0dd7d98",
   "metadata": {},
   "outputs": [
    {
     "data": {
      "text/plain": [
       "newCasesBySpecimenDate    731988\n",
       "dtype: int64"
      ]
     },
     "execution_count": 6,
     "metadata": {},
     "output_type": "execute_result"
    }
   ],
   "source": [
    "diff_('nation',  earliest='2021-07-25')"
   ]
  },
  {
   "cell_type": "markdown",
   "id": "8a3b1264",
   "metadata": {},
   "source": [
    "Meanwhile, the `region` series went all the way back to the 1st April 2020:"
   ]
  },
  {
   "cell_type": "code",
   "execution_count": 7,
   "id": "ac583e85",
   "metadata": {},
   "outputs": [
    {
     "data": {
      "text/plain": [
       "newCasesBySpecimenDate    814099\n",
       "dtype: int64"
      ]
     },
     "execution_count": 7,
     "metadata": {},
     "output_type": "execute_result"
    }
   ],
   "source": [
    "region_diff = diff_('region', earliest='2020-04-01')\n",
    "region_diff"
   ]
  },
  {
   "cell_type": "markdown",
   "id": "d1e91150",
   "metadata": {},
   "source": [
    "If we consider the same time ranges then there are still differences between the `nation` and `region` *areaType*, but they're still significant:"
   ]
  },
  {
   "cell_type": "code",
   "execution_count": 8,
   "id": "26ead7ab",
   "metadata": {},
   "outputs": [
    {
     "name": "stdout",
     "output_type": "stream",
     "text": [
      "whole series: 37,163\n",
      "to 1st April 20: 37,163\n",
      "to 25th July 21: 25,250\n"
     ]
    }
   ],
   "source": [
    "print(f\"whole series: {diff__(earliest=None):,}\")\n",
    "print(f\"to 1st April 20: {diff__(earliest='2020-01-04'):,}\")\n",
    "print(f\"to 25th July 21: {diff__(earliest='2021-07-25'):,}\")"
   ]
  },
  {
   "cell_type": "markdown",
   "id": "79b0f03d",
   "metadata": {},
   "source": [
    "However, when I remember that `region` only includes England and filter the `nation` data appropriately, \n",
    "it does become less dramatic:"
   ]
  },
  {
   "cell_type": "code",
   "execution_count": 9,
   "id": "31192d59",
   "metadata": {},
   "outputs": [],
   "source": [
    "def diff_england(earliest):\n",
    "    return (diff_('nation', earliest=earliest, area='England') - diff_('region', earliest=earliest)).squeeze()"
   ]
  },
  {
   "cell_type": "code",
   "execution_count": 10,
   "id": "254ea281",
   "metadata": {},
   "outputs": [
    {
     "name": "stdout",
     "output_type": "stream",
     "text": [
      "whole series: 8,407\n",
      "to 1st April 20: 8,407\n",
      "to 25th July 21: 4,383\n"
     ]
    }
   ],
   "source": [
    "print(f\"whole series: {diff_england(earliest=None):,}\")\n",
    "print(f\"to 1st April 20: {diff_england(earliest='2020-01-04'):,}\")\n",
    "print(f\"to 25th July 21: {diff_england(earliest='2021-07-25'):,}\")"
   ]
  },
  {
   "cell_type": "markdown",
   "id": "e831866f",
   "metadata": {},
   "source": [
    "### Simplest possible"
   ]
  },
  {
   "cell_type": "code",
   "execution_count": 11,
   "id": "4d8dd299",
   "metadata": {},
   "outputs": [],
   "source": [
    "def simple_get_data(filter, release):\n",
    "    return pd.read_csv(\n",
    "        f'https://api.coronavirus.data.gov.uk/v2/data?{filter}'\n",
    "        f'&metric=newCasesBySpecimenDate&format=csv&release={release}',\n",
    "        usecols=['newCasesBySpecimenDate']\n",
    "    ).sum().squeeze()\n",
    "\n",
    "nation_new = simple_get_data('areaType=nation&areaName=England', '2022-01-31')\n",
    "region_new = simple_get_data('areaType=region', '2022-01-31')\n",
    "nation_old = simple_get_data('areaType=nation&areaName=England', '2022-01-30')\n",
    "region_old = simple_get_data('areaType=region', '2022-01-30')"
   ]
  },
  {
   "cell_type": "markdown",
   "id": "6f3039aa",
   "metadata": {},
   "source": [
    "Interesting that the difference between case counts for the `nation` of *England* and the sum of its `region` level data is still around 100k:"
   ]
  },
  {
   "cell_type": "code",
   "execution_count": 12,
   "id": "2f3ff8cd",
   "metadata": {},
   "outputs": [
    {
     "name": "stdout",
     "output_type": "stream",
     "text": [
      "112,002\n",
      "103,595\n"
     ]
    }
   ],
   "source": [
    "print(f\"{nation_new - region_new:,}\")\n",
    "print(f\"{nation_old - region_old:,}\")"
   ]
  },
  {
   "cell_type": "markdown",
   "id": "b6e0d41c",
   "metadata": {},
   "source": [
    "### Cases still being removed..."
   ]
  },
  {
   "cell_type": "markdown",
   "id": "85fdd6b1",
   "metadata": {},
   "source": [
    "Interesting that the 31st Jan release appears to have removed some cases that had been reported for specimen dates earlier than April 1st: 601 cases at a national level and 326 cases at a regional level!"
   ]
  },
  {
   "cell_type": "code",
   "execution_count": 13,
   "id": "74bf2362",
   "metadata": {},
   "outputs": [
    {
     "data": {
      "text/plain": [
       "newCasesBySpecimenDate   -601\n",
       "dtype: int64"
      ]
     },
     "execution_count": 13,
     "metadata": {},
     "output_type": "execute_result"
    }
   ],
   "source": [
    "diff_('nation', latest='2020-04-01')"
   ]
  },
  {
   "cell_type": "code",
   "execution_count": 14,
   "id": "e3cd6c15",
   "metadata": {},
   "outputs": [
    {
     "data": {
      "text/plain": [
       "newCasesBySpecimenDate   -326\n",
       "dtype: int64"
      ]
     },
     "execution_count": 14,
     "metadata": {},
     "output_type": "execute_result"
    }
   ],
   "source": [
    "diff_('region', latest='2020-04-01')"
   ]
  }
 ],
 "metadata": {
  "kernelspec": {
   "display_name": "Python 3",
   "language": "python",
   "name": "python3"
  },
  "language_info": {
   "codemirror_mode": {
    "name": "ipython",
    "version": 3
   },
   "file_extension": ".py",
   "mimetype": "text/x-python",
   "name": "python",
   "nbconvert_exporter": "python",
   "pygments_lexer": "ipython3",
   "version": "3.8.10"
  }
 },
 "nbformat": 4,
 "nbformat_minor": 5
}
