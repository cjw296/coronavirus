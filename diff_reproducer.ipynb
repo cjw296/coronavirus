{
 "cells": [
  {
   "cell_type": "code",
   "execution_count": 1,
   "id": "61c08f8b",
   "metadata": {},
   "outputs": [],
   "source": [
    "import pandas as pd\n",
    "from functools import partial"
   ]
  },
  {
   "cell_type": "code",
   "execution_count": 2,
   "id": "58630140",
   "metadata": {},
   "outputs": [],
   "source": [
    "def get_data(area_type, release, earliest=None, latest=None):\n",
    "    data = pd.read_csv(\n",
    "        f'https://api.coronavirus.data.gov.uk/v2/data?areaType={area_type}'\n",
    "        f'&metric=newCasesBySpecimenDate&format=csv&release={release}',\n",
    "    )\n",
    "    if earliest:\n",
    "        data = data[data['date'] >= earliest]\n",
    "    if latest:\n",
    "        data = data[data['date'] <= latest]\n",
    "    return data.groupby('date').sum().sum()"
   ]
  },
  {
   "cell_type": "code",
   "execution_count": 3,
   "id": "baf5bc34",
   "metadata": {},
   "outputs": [],
   "source": [
    "def diff(area_type, new_release, old_release, earliest=None, latest=None):\n",
    "    new_data = get_data(area_type, new_release, earliest, latest=latest)\n",
    "    old_data = get_data(area_type, old_release, earliest, latest=latest)\n",
    "    return new_data-old_data"
   ]
  },
  {
   "cell_type": "code",
   "execution_count": 4,
   "id": "7aa63c64",
   "metadata": {},
   "outputs": [],
   "source": [
    "diff_ = partial(diff, new_release='2022-01-31', old_release='2022-01-30')"
   ]
  },
  {
   "cell_type": "code",
   "execution_count": 5,
   "id": "9cbe5669",
   "metadata": {},
   "outputs": [],
   "source": [
    "def diff__(earliest):\n",
    "    return (diff_('nation', earliest=earliest) - diff_('region', earliest=earliest)).squeeze()"
   ]
  },
  {
   "cell_type": "markdown",
   "id": "8a1ec22c",
   "metadata": {},
   "source": [
    "The difference comes from where the series is truncated. For the `nation` series, the data was truncated at 25th July '2021: "
   ]
  },
  {
   "cell_type": "code",
   "execution_count": 6,
   "id": "638a9470",
   "metadata": {},
   "outputs": [
    {
     "data": {
      "text/plain": [
       "newCasesBySpecimenDate    731988\n",
       "dtype: int64"
      ]
     },
     "execution_count": 6,
     "metadata": {},
     "output_type": "execute_result"
    }
   ],
   "source": [
    "diff_('nation',  earliest='2021-07-25')"
   ]
  },
  {
   "cell_type": "markdown",
   "id": "b47e1c66",
   "metadata": {},
   "source": [
    "Meanwhile, the `region` series went all the way back to the 1st April 2020:"
   ]
  },
  {
   "cell_type": "code",
   "execution_count": 7,
   "id": "2a992ec6",
   "metadata": {},
   "outputs": [
    {
     "data": {
      "text/plain": [
       "newCasesBySpecimenDate    814099\n",
       "dtype: int64"
      ]
     },
     "execution_count": 7,
     "metadata": {},
     "output_type": "execute_result"
    }
   ],
   "source": [
    "region_diff = diff_('region', earliest='2020-04-01')\n",
    "region_diff"
   ]
  },
  {
   "cell_type": "markdown",
   "id": "35a64c56",
   "metadata": {},
   "source": [
    "If we consider the same time ranges then there are still differences between the `nation` and `region` *areaType*, but they're much less dramatic:"
   ]
  },
  {
   "cell_type": "code",
   "execution_count": 8,
   "id": "78d0364c",
   "metadata": {},
   "outputs": [
    {
     "name": "stdout",
     "output_type": "stream",
     "text": [
      "whole series: 37,163\n",
      "to 1st April 20: 37,163\n",
      "to 25th July 21: 25,250\n"
     ]
    }
   ],
   "source": [
    "print(f\"whole series: {diff__(earliest=None):,}\")\n",
    "print(f\"to 1st April 20: {diff__(earliest='2020-01-04'):,}\")\n",
    "print(f\"to 25th July 21: {diff__(earliest='2021-07-25'):,}\")"
   ]
  },
  {
   "cell_type": "markdown",
   "id": "3913cb3c",
   "metadata": {},
   "source": [
    "Interesting that the 31st Jan release appears to have removed some cases that had been reported for specimen dates earlier than April 1st: 601 cases at a national level and 326 cases at a regional level!"
   ]
  },
  {
   "cell_type": "code",
   "execution_count": 9,
   "id": "e4dab2fe",
   "metadata": {},
   "outputs": [
    {
     "data": {
      "text/plain": [
       "newCasesBySpecimenDate   -601\n",
       "dtype: int64"
      ]
     },
     "execution_count": 9,
     "metadata": {},
     "output_type": "execute_result"
    }
   ],
   "source": [
    "diff_('nation', latest='2020-04-01')"
   ]
  },
  {
   "cell_type": "code",
   "execution_count": 10,
   "id": "307d7ef5",
   "metadata": {},
   "outputs": [
    {
     "data": {
      "text/plain": [
       "newCasesBySpecimenDate   -326\n",
       "dtype: int64"
      ]
     },
     "execution_count": 10,
     "metadata": {},
     "output_type": "execute_result"
    }
   ],
   "source": [
    "diff_('region', latest='2020-04-01')"
   ]
  }
 ],
 "metadata": {
  "kernelspec": {
   "display_name": "Python 3",
   "language": "python",
   "name": "python3"
  },
  "language_info": {
   "codemirror_mode": {
    "name": "ipython",
    "version": 3
   },
   "file_extension": ".py",
   "mimetype": "text/x-python",
   "name": "python",
   "nbconvert_exporter": "python",
   "pygments_lexer": "ipython3",
   "version": "3.8.10"
  }
 },
 "nbformat": 4,
 "nbformat_minor": 5
}
